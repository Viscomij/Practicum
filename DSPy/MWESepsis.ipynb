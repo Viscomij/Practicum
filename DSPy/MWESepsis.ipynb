{
 "cells": [
  {
   "cell_type": "markdown",
   "id": "0f14bf95",
   "metadata": {},
   "source": [
    "# DSPy X Progress Note Validation - Minimal Working Example"
   ]
  },
  {
   "cell_type": "markdown",
   "id": "2b09f333",
   "metadata": {},
   "source": [
    "## 1) Setup"
   ]
  },
  {
   "cell_type": "markdown",
   "id": "9f590d37",
   "metadata": {},
   "source": [
    "### Import OpenAI library, read API key"
   ]
  },
  {
   "cell_type": "code",
   "execution_count": 3,
   "id": "397d7ed1",
   "metadata": {},
   "outputs": [],
   "source": [
    "#%pip install openai"
   ]
  },
  {
   "cell_type": "code",
   "execution_count": 2,
   "id": "445cb5ed",
   "metadata": {},
   "outputs": [],
   "source": [
    "import os\n",
    "os.chdir('C:/Users/jcviscom/OneDrive - Intermountain Healthcare/BMI Degree/Practicum/DSPy')"
   ]
  },
  {
   "cell_type": "code",
   "execution_count": 3,
   "id": "346e9ca3",
   "metadata": {},
   "outputs": [],
   "source": [
    "from openai import OpenAI\n",
    "\n",
    "# Function to read API key from a file\n",
    "def get_api_key(filepath):\n",
    "    with open(filepath, 'r') as file:\n",
    "        return file.read().strip()\n",
    "\n",
    "# Set the path to your API key file\n",
    "api_key_path = 'OpenAIKey.txt'\n",
    "\n",
    "\n",
    "client = OpenAI(api_key = get_api_key(api_key_path))"
   ]
  },
  {
   "cell_type": "markdown",
   "id": "e15afd6e",
   "metadata": {},
   "source": [
    "## 2) Load progress notes, structured billing information"
   ]
  },
  {
   "cell_type": "markdown",
   "id": "a366a9c8",
   "metadata": {},
   "source": [
    "### 2.1 Load Progress Note PDF"
   ]
  },
  {
   "cell_type": "code",
   "execution_count": 4,
   "id": "bd65c160",
   "metadata": {},
   "outputs": [],
   "source": [
    "import fitz  # PyMuPDF for PDF parsing\n",
    "import re\n",
    "import csv\n",
    "\n",
    "\n",
    "# Function to extract text from a PDF file\n",
    "def extract_text_from_pdf(pdf_file):\n",
    "    doc = fitz.open(pdf_file)\n",
    "    text = \"\"\n",
    "    for page_num in range(len(doc)):\n",
    "        page = doc.load_page(page_num)\n",
    "        text += page.get_text()\n",
    "    return text\n",
    "\n",
    "progress_notes_text = extract_text_from_pdf('MWE - Sepsis/Progress Notes/Progress Notes.pdf')"
   ]
  },
  {
   "cell_type": "code",
   "execution_count": 5,
   "id": "12d82d8f",
   "metadata": {},
   "outputs": [
    {
     "data": {
      "text/plain": [
       "\"Progress Notes \\nPatient Name: John Doe \\nMRN: 12345678 \\nDate of Admission: 2024-06-10 \\nDate of Note: 2024-06-13 \\nAttending Physician: Dr. Jane Smith \\nUnit: ICU \\n \\nSubjective: \\nPatient is a 65-year-old male with a history of hypertension and type 2 diabetes mellitus who was \\nadmitted three days ago with high fever, chills, and confusion. The patient's family reports that \\nhe has been feeling progressively worse over the past week and had a fever of 102°F at home. He \\nwas brought to the emergency department where he was found to be hypotensive and \\ntachycardic. \\nObjective: \\n• \\nVitals: \\no Temperature: 101.8°F \\no Heart Rate: 110 bpm \\no Blood Pressure: 85/55 mmHg \\no Respiratory Rate: 24 breaths/min \\no SpO2: 92% on room air \\n• \\nPhysical Exam: \\no General: Ill-appearing, diaphoretic \\no HEENT: No significant findings \\no Cardiovascular: Tachycardia, no murmurs \\no Respiratory: Tachypneic, coarse crackles at bases \\no Abdomen: Soft, non-tender \\no Extremities: No edema \\no Neurological: Alert, oriented to person only, follows simple commands \\n• \\nLabs/Imaging: \\no CBC: WBC 18,000/µL, Hgb 12.5 g/dL, Platelets 150,000/µL \\no BMP: Na 138 mmol/L, K 4.2 mmol/L, Cl 102 mmol/L, HCO3 20 mmol/L, BUN \\n28 mg/dL, Cr 1.8 mg/dL, Glucose 190 mg/dL \\no Lactic Acid: 4.5 mmol/L \\no Blood Cultures: Pending \\no Chest X-ray: Bilateral infiltrates \\nAssessment: \\n1. Sepsis secondary to presumed pneumonia: \\no The patient presents with fever, tachycardia, hypotension, and respiratory distress. \\nBlood cultures are pending. \\no Elevated WBC and lactic acid levels indicate significant infection and \\nhypoperfusion. \\n2. Hypertension: \\no History of hypertension, currently managed with home medications. \\n3. Type 2 Diabetes Mellitus: \\no Chronic condition, currently on metformin. \\nPlan: \\n1. Sepsis: \\no Continue IV fluids and broad-spectrum antibiotics (Vancomycin and Piperacillin-\\nTazobactam). \\no Monitor vitals closely. \\no Repeat lactate level in 6 hours. \\no Transfer to ICU for close monitoring and possible vasopressor support. \\n2. Hypertension: \\no Hold antihypertensive medications due to current hypotension. \\n3. Diabetes Management: \\no Monitor blood glucose levels every 4 hours. \\no Continue sliding scale insulin. \\n \\nFollow-Up Note (2024-06-14): \\nSubjective: \\nPatient shows slight improvement in mental status, now oriented to person and place. Fever \\npersists. The family reports that he had been in close contact with a relative who was recently \\ndiagnosed with influenza. \\nObjective: \\n• \\nVitals: \\no Temperature: 100.5°F \\no Heart Rate: 100 bpm \\no Blood Pressure: 90/60 mmHg \\no Respiratory Rate: 20 breaths/min \\no SpO2: 94% on room air \\n• \\nLabs/Imaging: \\no Repeat Lactic Acid: 3.0 mmol/L \\no Blood Cultures: Negative \\no Influenza PCR: Positive for Influenza A \\nAssessment: \\n1. Influenza with secondary bacterial infection: \\no Initial presentation suggested sepsis, but blood cultures are negative and influenza \\nPCR is positive. \\no Likely secondary bacterial pneumonia contributing to the sepsis-like picture. \\n2. Hypertension: \\no Continue to hold antihypertensive medications due to ongoing relative \\nhypotension. \\n3. Type 2 Diabetes Mellitus: \\no Continue monitoring and sliding scale insulin. \\nPlan: \\n1. Influenza: \\no Discontinue broad-spectrum antibiotics. \\no Start antiviral therapy (Oseltamivir). \\no Continue supportive care with fluids and antipyretics. \\no Monitor for any signs of secondary bacterial infection. \\n2. Hypertension: \\no Re-evaluate blood pressure management once the patient stabilizes. \\n3. Diabetes Management: \\no Continue monitoring and sliding scale insulin. \\no Adjust insulin doses as needed based on blood glucose readings. \\n \\nSigned: \\nDr. Jane Smith, MD \\nAttending Physician \\n4o \\n \\n\""
      ]
     },
     "execution_count": 5,
     "metadata": {},
     "output_type": "execute_result"
    }
   ],
   "source": [
    "progress_notes_text"
   ]
  },
  {
   "cell_type": "markdown",
   "id": "62a6c06e",
   "metadata": {},
   "source": [
    "### 2.2A Load HL7 Message, Extract Primary Diagnosis and DRG"
   ]
  },
  {
   "cell_type": "code",
   "execution_count": 12,
   "id": "a75f1200",
   "metadata": {},
   "outputs": [
    {
     "name": "stdout",
     "output_type": "stream",
     "text": [
      "HL7 Message:\n",
      "\n",
      "MSH|^~\\&|HIS|RIH|EKG|EKG|202406131030||ADT^A08|MSG00001|P|2.3\n",
      "EVN|A08|202406131030|||1234567\n",
      "PID|1||12345678^^^HIS^MR||DOE^JOHN^A||19580615|M|||123 MAIN ST^^HOMETOWN^CA^99999^USA||(555)555-5555|||M|S||123456789|987-65-4320\n",
      "PV1|1|I|ICU^101^1^RIH||||1234^Smith^Jane^A|||MED|||||12345678|A|||||||||||||||||||20240610\n",
      "DG1|1||A41.9^Sepsis, unspecified organism^I10|Sepsis|20240610|A\n",
      "DRG|871|0|20240613\n",
      "PR1|1|ICD10PCS|5A1D60Z^Respiratory Ventilation, Less than 24 Consecutive Hours^I10|20240611\n",
      "\n",
      "\n",
      "RegEx Extraction:\n",
      "\n",
      "Encounter ID: 202406131030\n",
      "DRG: 871\n",
      "Primary Diagnosis: A41.9\n"
     ]
    }
   ],
   "source": [
    "# Function to read HL7 message from a text file\n",
    "with open('MWE - Sepsis/HL7.txt', 'r') as file:\n",
    "    hl7_message = file.read()\n",
    "\n",
    "# Regular expressions to extract DRG and ICD codes\n",
    "drg_pattern_HL7 = r\"DRG\\|(\\d+)\\|\"  # Matches DRG|<code>|\n",
    "PD_pattern_HL7 = r\"DG1\\|1\\|\\|(.*?)\\|\"  # Matches DG1|1||<code>|\n",
    "encounter_id_pattern = r\"EVN\\|.*\\|([0-9]{12})\\|\"\n",
    "\n",
    "# Extract DRG code\n",
    "drg_match = re.search(drg_pattern_HL7, hl7_message)\n",
    "if drg_match:\n",
    "    drg_code = drg_match.group(1)\n",
    "else:\n",
    "    drg_code = \"Not found\"\n",
    "\n",
    "# Extract ICD code\n",
    "PD_match = re.search(PD_pattern_HL7, hl7_message)\n",
    "if PD_match:\n",
    "    PD_ICD = PD_match.group(1).split(\"^\")[0]  # Extract only the ICD code without additional details\n",
    "else:\n",
    "    PD_ICD = \"Not found\"\n",
    "    \n",
    "\n",
    "\n",
    "# Extract Encounter ID\n",
    "encounter_id_match = re.search(encounter_id_pattern, hl7_message)\n",
    "if encounter_id_match:\n",
    "    encounter_id = encounter_id_match.group(1)\n",
    "else:\n",
    "    encounter_id = \"Not found\"\n",
    "\n",
    "\n",
    "# Print the extracted codes\n",
    "print('HL7 Message:')\n",
    "print()\n",
    "print(hl7_message)\n",
    "print()\n",
    "print('RegEx Extraction:')\n",
    "print()\n",
    "print(f\"Encounter ID: {encounter_id}\")\n",
    "print(f\"DRG: {drg_code}\")\n",
    "print(f\"Primary Diagnosis: {PD_ICD}\")"
   ]
  },
  {
   "cell_type": "markdown",
   "id": "221901f9",
   "metadata": {},
   "source": [
    "### 2.2B Load ASC EDI X12 837/835 Message, Extract Primary Diagnosis and DRG"
   ]
  },
  {
   "cell_type": "code",
   "execution_count": 18,
   "id": "0957788f",
   "metadata": {},
   "outputs": [
    {
     "name": "stdout",
     "output_type": "stream",
     "text": [
      "EDI X12 Message:\n",
      "\n",
      "ISA*00* \t*00* \n",
      "*ZZ*SENDER ID \n",
      "*ZZ*RECEIVER ID *20240613*1030*^*00501*000000001*0*T*:~ \n",
      "GS*HC*SENDER CODE*RECEIVER \n",
      "CODE*20240613*1030*1*X*005010X222A1~ \n",
      "ST*837*0001*005010X222A1~ \n",
      "BHT*0019*00*202406131030*20240613*1030*CH~ \n",
      "NM1*41*2*SENDER NAME*****46*123456789~ \n",
      "PER*IC*CONTACT NAME*TE*5555555555~ \n",
      "NM1*40*2*RECEIVER NAME*****46*987654321~ \n",
      "HL*1**20*1~ NM1*85*2*CUH*****XX*1234567893~ \n",
      "N3*123 MAIN ST~ \n",
      "N4*ATLANTA*GA*30303~ \n",
      "REF*EI*123456789~ \n",
      "HL*2*1*22*0~ \n",
      "SBR*P*18*MEDICARE*****MA~ \n",
      "NM1*IL*1*DOE*JOHN****MI*12345678~ \n",
      "N3*123 MAIN ST~ \n",
      "N4*ATLANTA*GA*30303~ \n",
      "DMG*D8*19500101*M~ \n",
      "NM1*PR*2*MEDICARE*****PI*MEDICARE~ \n",
      "HL*3*2*23*0~ PAT*19~ \n",
      "NM1*QC*1*DOE*JOHN~ \n",
      "N3*123 MAIN ST~ \n",
      "N4*ATLANTA*GA*30303~ \n",
      "CLM*12345678*1000***11::1*Y*A*Y*I~ \n",
      "HI*ABK:A41.9~ \n",
      "HI*ABF:871~ \n",
      "NM1*82*1*SMITH*JANE****XX*9876543210~ \n",
      "SBR*S*18****CI~ \n",
      "NM1*PR*2*CUH*****PI*123456~ \n",
      "SE*28*0001~ \n",
      "GE*1*1~ \n",
      "IEA*1*000000001~\n",
      "\n",
      "RegEx Extraction:\n",
      "\n",
      "Claim ID: 12345678\n",
      "DRG: 871\n",
      "Primary Diagnosis: A41.9\n"
     ]
    }
   ],
   "source": [
    "# Function to read HL7 message from a text file\n",
    "with open('MWE - Sepsis/ASC_EDI_X12.txt', 'r') as file:\n",
    "    EDI_message = file.read()\n",
    "\n",
    "# Regular expressions to extract DRG and ICD codes\n",
    "drg_pattern_EDI = r\"HI\\*ABF:([\\w\\d]+)~\"  # Matches DRG|<code>|\n",
    "PD_pattern_EDI = r\"HI\\*ABK:([A-Za-z0-9.]+)~\"  # Matches DG1|1||<code>|\n",
    "claim_id_pattern = r\"CLM\\*([\\w\\d]+)\\*\"\n",
    "\n",
    "# Extract DRG code\n",
    "drg_match = re.search(drg_pattern_EDI, EDI_message)\n",
    "if drg_match:\n",
    "    drg_code = drg_match.group(1)\n",
    "else:\n",
    "    drg_code = \"Not found\"\n",
    "\n",
    "# Extract ICD code\n",
    "PD_match = re.search(PD_pattern_EDI, EDI_message)\n",
    "if PD_match:\n",
    "    PD_ICD = PD_match.group(1) #.split(\"^\")[0]  # Extract only the ICD code without additional details\n",
    "else:\n",
    "    PD_ICD = \"Not found\"\n",
    "    \n",
    "\n",
    "\n",
    "# Extract Encounter ID\n",
    "claim_id_match = re.search(claim_id_pattern, EDI_message)\n",
    "if claim_id_match:\n",
    "    claim_id = claim_id_match.group(1)\n",
    "else:\n",
    "    claim_id = \"Not found\"\n",
    "\n",
    "\n",
    "# Print the extracted codes\n",
    "print('EDI X12 Message:')\n",
    "print()\n",
    "print(EDI_message)\n",
    "print()\n",
    "print('RegEx Extraction:')\n",
    "print()\n",
    "print(f\"Claim ID: {claim_id}\")\n",
    "print(f\"DRG: {drg_code}\")\n",
    "print(f\"Primary Diagnosis: {PD_ICD}\")"
   ]
  },
  {
   "cell_type": "markdown",
   "id": "f931d891",
   "metadata": {},
   "source": [
    "### 2.3 Manually seperate progress note into strucuted table"
   ]
  },
  {
   "cell_type": "code",
   "execution_count": 19,
   "id": "4165ca81",
   "metadata": {},
   "outputs": [],
   "source": [
    "#split progress notes, combine into array\n",
    "progress_note_1 = progress_notes_text[0:2198]\n",
    "progress_note_2 = progress_notes_text[2198:]\n",
    "\n",
    "progress_note_array = [progress_note_1,progress_note_2]"
   ]
  },
  {
   "cell_type": "code",
   "execution_count": 20,
   "id": "caaef318",
   "metadata": {},
   "outputs": [
    {
     "data": {
      "text/html": [
       "<div>\n",
       "<style scoped>\n",
       "    .dataframe tbody tr th:only-of-type {\n",
       "        vertical-align: middle;\n",
       "    }\n",
       "\n",
       "    .dataframe tbody tr th {\n",
       "        vertical-align: top;\n",
       "    }\n",
       "\n",
       "    .dataframe thead th {\n",
       "        text-align: right;\n",
       "    }\n",
       "</style>\n",
       "<table border=\"1\" class=\"dataframe\">\n",
       "  <thead>\n",
       "    <tr style=\"text-align: right;\">\n",
       "      <th></th>\n",
       "      <th>ProgessNote</th>\n",
       "      <th>PrimaryDiagnosis</th>\n",
       "      <th>MSDRG</th>\n",
       "    </tr>\n",
       "  </thead>\n",
       "  <tbody>\n",
       "    <tr>\n",
       "      <th>0</th>\n",
       "      <td>Progress Notes \\nPatient Name: John Doe \\nMRN:...</td>\n",
       "      <td>A41.9</td>\n",
       "      <td>871</td>\n",
       "    </tr>\n",
       "    <tr>\n",
       "      <th>1</th>\n",
       "      <td>Follow-Up Note (2024-06-14): \\nSubjective: \\nP...</td>\n",
       "      <td>A41.9</td>\n",
       "      <td>871</td>\n",
       "    </tr>\n",
       "  </tbody>\n",
       "</table>\n",
       "</div>"
      ],
      "text/plain": [
       "                                         ProgessNote PrimaryDiagnosis MSDRG\n",
       "0  Progress Notes \\nPatient Name: John Doe \\nMRN:...            A41.9   871\n",
       "1  Follow-Up Note (2024-06-14): \\nSubjective: \\nP...            A41.9   871"
      ]
     },
     "execution_count": 20,
     "metadata": {},
     "output_type": "execute_result"
    }
   ],
   "source": [
    "import pandas as pd\n",
    "\n",
    "data = []\n",
    "for i in range(len(progress_note_array)):\n",
    "    ProgessNote = f'{progress_note_array[i]}'\n",
    "    # Append a tuple (or list) of values to the data list\n",
    "    data.append((ProgessNote, PD_ICD, drg_code))\n",
    "\n",
    "# Convert the list of tuples to a DataFrame\n",
    "df = pd.DataFrame(data, columns=['ProgessNote', 'PrimaryDiagnosis', 'MSDRG'])\n",
    "\n",
    "# Display the DataFrame\n",
    "df"
   ]
  },
  {
   "cell_type": "code",
   "execution_count": 21,
   "id": "c6b2398a",
   "metadata": {},
   "outputs": [
    {
     "data": {
      "text/html": [
       "<div>\n",
       "<style scoped>\n",
       "    .dataframe tbody tr th:only-of-type {\n",
       "        vertical-align: middle;\n",
       "    }\n",
       "\n",
       "    .dataframe tbody tr th {\n",
       "        vertical-align: top;\n",
       "    }\n",
       "\n",
       "    .dataframe thead th {\n",
       "        text-align: right;\n",
       "    }\n",
       "</style>\n",
       "<table border=\"1\" class=\"dataframe\">\n",
       "  <thead>\n",
       "    <tr style=\"text-align: right;\">\n",
       "      <th></th>\n",
       "      <th>ProgessNote</th>\n",
       "      <th>PrimaryDiagnosis</th>\n",
       "      <th>MSDRG</th>\n",
       "      <th>ClinValidDRG_GS</th>\n",
       "    </tr>\n",
       "  </thead>\n",
       "  <tbody>\n",
       "    <tr>\n",
       "      <th>0</th>\n",
       "      <td>Progress Notes \\nPatient Name: John Doe \\nMRN:...</td>\n",
       "      <td>A41.9</td>\n",
       "      <td>871</td>\n",
       "      <td>Y</td>\n",
       "    </tr>\n",
       "    <tr>\n",
       "      <th>1</th>\n",
       "      <td>Follow-Up Note (2024-06-14): \\nSubjective: \\nP...</td>\n",
       "      <td>A41.9</td>\n",
       "      <td>871</td>\n",
       "      <td>N</td>\n",
       "    </tr>\n",
       "  </tbody>\n",
       "</table>\n",
       "</div>"
      ],
      "text/plain": [
       "                                         ProgessNote PrimaryDiagnosis MSDRG  \\\n",
       "0  Progress Notes \\nPatient Name: John Doe \\nMRN:...            A41.9   871   \n",
       "1  Follow-Up Note (2024-06-14): \\nSubjective: \\nP...            A41.9   871   \n",
       "\n",
       "  ClinValidDRG_GS  \n",
       "0               Y  \n",
       "1               N  "
      ]
     },
     "execution_count": 21,
     "metadata": {},
     "output_type": "execute_result"
    }
   ],
   "source": [
    "df_gs = df.assign(ClinValidDRG_GS = ['Y','N'])\n",
    "df_gs"
   ]
  },
  {
   "cell_type": "code",
   "execution_count": null,
   "id": "036d5b67",
   "metadata": {},
   "outputs": [],
   "source": []
  },
  {
   "cell_type": "code",
   "execution_count": null,
   "id": "c702fb26",
   "metadata": {},
   "outputs": [],
   "source": []
  },
  {
   "cell_type": "code",
   "execution_count": null,
   "id": "1c9640eb",
   "metadata": {},
   "outputs": [],
   "source": []
  },
  {
   "cell_type": "code",
   "execution_count": null,
   "id": "c2eff95f",
   "metadata": {},
   "outputs": [],
   "source": []
  },
  {
   "cell_type": "code",
   "execution_count": null,
   "id": "c8e61f56",
   "metadata": {},
   "outputs": [],
   "source": []
  },
  {
   "cell_type": "code",
   "execution_count": null,
   "id": "b5cc32d8",
   "metadata": {},
   "outputs": [],
   "source": []
  },
  {
   "cell_type": "code",
   "execution_count": null,
   "id": "d76b3627",
   "metadata": {},
   "outputs": [],
   "source": []
  },
  {
   "cell_type": "code",
   "execution_count": null,
   "id": "2ea8c090",
   "metadata": {},
   "outputs": [],
   "source": []
  },
  {
   "cell_type": "code",
   "execution_count": null,
   "id": "3977f76c",
   "metadata": {},
   "outputs": [],
   "source": []
  },
  {
   "cell_type": "code",
   "execution_count": null,
   "id": "66b60f4c",
   "metadata": {},
   "outputs": [],
   "source": []
  },
  {
   "cell_type": "code",
   "execution_count": null,
   "id": "9ff3000d",
   "metadata": {},
   "outputs": [],
   "source": []
  },
  {
   "cell_type": "code",
   "execution_count": null,
   "id": "b75314f3",
   "metadata": {},
   "outputs": [],
   "source": []
  },
  {
   "cell_type": "code",
   "execution_count": null,
   "id": "ac05e59a",
   "metadata": {},
   "outputs": [],
   "source": []
  },
  {
   "cell_type": "code",
   "execution_count": null,
   "id": "50067758",
   "metadata": {},
   "outputs": [],
   "source": []
  },
  {
   "cell_type": "code",
   "execution_count": null,
   "id": "83246be5",
   "metadata": {},
   "outputs": [],
   "source": []
  },
  {
   "cell_type": "code",
   "execution_count": null,
   "id": "6eab2e22",
   "metadata": {},
   "outputs": [],
   "source": []
  },
  {
   "cell_type": "code",
   "execution_count": null,
   "id": "a1f6e932",
   "metadata": {},
   "outputs": [],
   "source": []
  },
  {
   "cell_type": "code",
   "execution_count": null,
   "id": "43d71afd",
   "metadata": {},
   "outputs": [],
   "source": []
  },
  {
   "cell_type": "code",
   "execution_count": null,
   "id": "9661f772",
   "metadata": {},
   "outputs": [],
   "source": []
  },
  {
   "cell_type": "code",
   "execution_count": null,
   "id": "5c691fec",
   "metadata": {},
   "outputs": [],
   "source": []
  },
  {
   "cell_type": "code",
   "execution_count": null,
   "id": "14a17f36",
   "metadata": {},
   "outputs": [],
   "source": []
  },
  {
   "cell_type": "markdown",
   "id": "f34a5a19",
   "metadata": {},
   "source": [
    "### Import DSPy, configure LLM"
   ]
  },
  {
   "cell_type": "code",
   "execution_count": 1,
   "id": "d98881d0",
   "metadata": {},
   "outputs": [
    {
     "name": "stderr",
     "output_type": "stream",
     "text": [
      "100%|███████████████████████████████████████████████████████████████████████████| 7473/7473 [00:00<00:00, 29191.29it/s]\n",
      "100%|███████████████████████████████████████████████████████████████████████████| 1319/1319 [00:00<00:00, 29916.87it/s]\n"
     ]
    }
   ],
   "source": [
    "import dspy\n",
    "from dspy.datasets.gsm8k import GSM8K, gsm8k_metric\n",
    "\n",
    "# Set up the LM\n",
    "turbo = dspy.OpenAI(model='gpt-3.5-turbo-instruct', max_tokens=250)\n",
    "dspy.settings.configure(lm=turbo)\n",
    "\n",
    "# Load math questions from the GSM8K dataset\n",
    "gsm8k = GSM8K()\n",
    "gsm8k_trainset, gsm8k_devset = gsm8k.train[:10], gsm8k.dev[:10]"
   ]
  },
  {
   "cell_type": "code",
   "execution_count": 10,
   "id": "6463503d",
   "metadata": {},
   "outputs": [
    {
     "name": "stdout",
     "output_type": "stream",
     "text": [
      "[Example({'question': \"The result from the 40-item Statistics exam Marion and Ella took already came out. Ella got 4 incorrect answers while Marion got 6 more than half the score of Ella. What is Marion's score?\", 'gold_reasoning': \"Ella's score is 40 items - 4 items = <<40-4=36>>36 items. Half of Ella's score is 36 items / 2 = <<36/2=18>>18 items. So, Marion's score is 18 items + 6 items = <<18+6=24>>24 items.\", 'answer': '24'}) (input_keys={'question'}), Example({'question': \"Stephen made 10 round trips up and down a 40,000 foot tall mountain. If he reached 3/4 of the mountain's height on each of his trips, calculate the total distance he covered.\", 'gold_reasoning': 'Up a mountain, Stephen covered 3/4*40000 = <<3/4*40000=30000>>30000 feet. Coming down, Stephen covered another 30000 feet, making the total distance covered in one round to be 30000+30000 = <<30000+30000=60000>>60000. Since Stephen made 10 round trips up and down the mountain, he covered 10*60000 = <<10*60000=600000>>600000', 'answer': '600000'}) (input_keys={'question'}), Example({'question': 'Bridget counted 14 shooting stars in the night sky.  Reginald counted two fewer shooting stars than did Bridget, but Sam counted four more shooting stars than did Reginald.  How many more shooting stars did Sam count in the night sky than was the average number of shooting stars observed for the three of them?', 'gold_reasoning': 'Reginald counted two fewer shooting stars than did Bridget, or a total of 14-2=<<14-2=12>>12 shooting stars. Sam counted 4 more shooting stars than did Reginald, or a total of 12+4=16 shooting stars. The average number of shooting stars observed for the three of them was (14+12+16)/3 = <<14=14>>14 shooting stars. Thus, Sam counted 16-14=2 more shooting stars than was the average number of shooting stars observed for the three of them.', 'answer': '2'}) (input_keys={'question'}), Example({'question': 'Sarah buys 20 pencils on Monday. Then she buys 18 more pencils on Tuesday. On Wednesday she buys triple the number of pencils she did on Tuesday. How many pencils does she have?', 'gold_reasoning': 'By adding together Monday and Tuesday, Saah has 20+18= <<20+18=38>>38 pencils On Wednesday, she buys 3 * 18= <<3*18=54>>54 pencils All together, Sarah has 38+54= <<38+54=92>>92 pencils', 'answer': '92'}) (input_keys={'question'}), Example({'question': 'Rookie police officers have to buy duty shoes at the full price of $85, but officers who have served at least a year get a 20% discount. Officers who have served at least three years get an additional 25% off the discounted price. How much does an officer who has served at least three years have to pay for shoes?', 'gold_reasoning': 'Cops that served a year pay $85 * 0.2 = $<<85*0.2=17>>17 less. Cops that served a year pay $85 - $17 = $<<85-17=68>>68. Cops that served at least 3 years get a $68 * 0.25 = $<<68*0.25=17>>17 discount. Cops that served at least 3 years pay $68 - $17 = $<<68-17=51>>51 for shoes.', 'answer': '51'}) (input_keys={'question'}), Example({'question': \"The average score on last week's Spanish test was 90.  Marco scored 10% less than the average test score and Margaret received 5 more points than Marco.  What score did Margaret receive on her test?\", 'gold_reasoning': 'The average test score was 90 and Marco scored 10% less so 90*.10 = <<90*.10=9>>9 points lower The average test score was 90 and Marco scored 9 points less so his test score was 90-9 = <<90-9=81>>81 Margret received 5 more points than Marco whose test score was 81 so she made 5+81 = <<5+81=86>>86 on her test', 'answer': '86'}) (input_keys={'question'}), Example({'question': 'A third of the contestants at a singing competition are female, and the rest are male. If there are 18 contestants in total, how many of them are male?', 'gold_reasoning': 'There are 18/3 = <<18/3=6>>6 female contestants. There are 18-6 = <<18-6=12>>12 male contestants.', 'answer': '12'}) (input_keys={'question'}), Example({'question': 'Nancy bought a pie sliced it into 8 pieces. She gave 1/2 to Joe and Darcy, and she gave 1/4 to Carl. How many slices were left?', 'gold_reasoning': 'The total number of slices she gave to Joe and Darcy is 1/2 x 8 = <<1/2*8=4>>4. The total slice she gave to Carl is 1/4 x 8 = <<1/4*8=2>>2. Therefore, the total slices left is 8 - 4 - 2 = <<8-4-2=2>>2.', 'answer': '2'}) (input_keys={'question'}), Example({'question': 'Megan pays $16 for a shirt that costs $22 before sales. What is the amount of the discount?', 'gold_reasoning': 'Let x be the amount of the discount. We have, 22 - x = $16 We change the writing of the equation: 22 - x + x = 16 + x So, 22 = 16 + x We then Remove 16 from both sides: 22 - 16 = 16 + x - 16 So, 22 - 16 = x So, the amount of the discount is x = $<<6=6>>6.', 'answer': '6'}) (input_keys={'question'}), Example({'question': \"Amaya scored 20 marks fewer in Maths than she scored in Arts. She also got 10 marks more in Social Studies than she got in Music. If she scored 70 in Music and scored 1/10 less in Maths, what's the total number of marks she scored in all the subjects?\", 'gold_reasoning': 'The total marks Amaya scored more in Music than in Maths is 1/10 * 70 = <<1/10*70=7>>7 marks. So the total marks she scored in Maths is 70 - 7 = <<70-7=63>>63 marks. If she scored 20 marks fewer in Maths than in Arts, then he scored 63 + 20 = <<63+20=83>>83 in Arts. If she scored 10 marks more in Social Studies than in Music, then she scored 70 + 10 = <<10+70=80>>80 marks in Social Studies. The total number of marks for all the subjects is 70 + 63 + 83 + 80 = <<70+63+83+80=296>>296 marks.', 'answer': '296'}) (input_keys={'question'})]\n"
     ]
    }
   ],
   "source": [
    "print(gsm8k_trainset)"
   ]
  },
  {
   "cell_type": "markdown",
   "id": "e81f3554",
   "metadata": {},
   "source": [
    "## 2) Define the Module"
   ]
  },
  {
   "cell_type": "code",
   "execution_count": null,
   "id": "3c0208f3",
   "metadata": {},
   "outputs": [],
   "source": [
    "class CoT(dspy.Module):\n",
    "    def __init__(self):\n",
    "        super().__init__()\n",
    "        self.prog = dspy.ChainOfThought(\"question -> answer\")\n",
    "    \n",
    "    def forward(self, question):\n",
    "        return self.prog(question=question)"
   ]
  }
 ],
 "metadata": {
  "kernelspec": {
   "display_name": "Python 3 (ipykernel)",
   "language": "python",
   "name": "python3"
  },
  "language_info": {
   "codemirror_mode": {
    "name": "ipython",
    "version": 3
   },
   "file_extension": ".py",
   "mimetype": "text/x-python",
   "name": "python",
   "nbconvert_exporter": "python",
   "pygments_lexer": "ipython3",
   "version": "3.11.5"
  }
 },
 "nbformat": 4,
 "nbformat_minor": 5
}
