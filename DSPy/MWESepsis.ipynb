{
 "cells": [
  {
   "cell_type": "markdown",
   "id": "0f14bf95",
   "metadata": {},
   "source": [
    "# DSPy X Progress Note Validation - Minimal Working Example"
   ]
  },
  {
   "cell_type": "markdown",
   "id": "2b09f333",
   "metadata": {},
   "source": [
    "## 1) Setup"
   ]
  },
  {
   "cell_type": "markdown",
   "id": "9f590d37",
   "metadata": {},
   "source": [
    "### Import OpenAI library, read API key"
   ]
  },
  {
   "cell_type": "code",
   "execution_count": 3,
   "id": "397d7ed1",
   "metadata": {},
   "outputs": [],
   "source": [
    "#%pip install openai"
   ]
  },
  {
   "cell_type": "code",
   "execution_count": 2,
   "id": "445cb5ed",
   "metadata": {},
   "outputs": [],
   "source": [
    "import os\n",
    "os.chdir('C:/Users/jcviscom/OneDrive - Intermountain Healthcare/BMI Degree/Practicum/DSPy')"
   ]
  },
  {
   "cell_type": "code",
   "execution_count": 3,
   "id": "346e9ca3",
   "metadata": {},
   "outputs": [],
   "source": [
    "from openai import OpenAI\n",
    "\n",
    "# Function to read API key from a file\n",
    "def get_api_key(filepath):\n",
    "    with open(filepath, 'r') as file:\n",
    "        return file.read().strip()\n",
    "\n",
    "# Set the path to your API key file\n",
    "api_key_path = 'OpenAIKey.txt'\n",
    "\n",
    "\n",
    "client = OpenAI(api_key = get_api_key(api_key_path))"
   ]
  },
  {
   "cell_type": "markdown",
   "id": "e15afd6e",
   "metadata": {},
   "source": [
    "## 2) Data Wrangling"
   ]
  },
  {
   "cell_type": "markdown",
   "id": "a366a9c8",
   "metadata": {},
   "source": [
    "### Load Progress Note PDF"
   ]
  },
  {
   "cell_type": "code",
   "execution_count": 4,
   "id": "bd65c160",
   "metadata": {},
   "outputs": [],
   "source": [
    "import fitz  # PyMuPDF for PDF parsing\n",
    "import re\n",
    "import csv\n",
    "\n",
    "\n",
    "# Function to extract text from a PDF file\n",
    "def extract_text_from_pdf(pdf_file):\n",
    "    doc = fitz.open(pdf_file)\n",
    "    text = \"\"\n",
    "    for page_num in range(len(doc)):\n",
    "        page = doc.load_page(page_num)\n",
    "        text += page.get_text()\n",
    "    return text\n",
    "\n",
    "progress_notes_text = extract_text_from_pdf('MWE - Sepsis/Progress Notes/Progress Notes.pdf')"
   ]
  },
  {
   "cell_type": "code",
   "execution_count": 5,
   "id": "12d82d8f",
   "metadata": {},
   "outputs": [
    {
     "data": {
      "text/plain": [
       "\"Progress Notes \\nPatient Name: John Doe \\nMRN: 12345678 \\nDate of Admission: 2024-06-10 \\nDate of Note: 2024-06-13 \\nAttending Physician: Dr. Jane Smith \\nUnit: ICU \\n \\nSubjective: \\nPatient is a 65-year-old male with a history of hypertension and type 2 diabetes mellitus who was \\nadmitted three days ago with high fever, chills, and confusion. The patient's family reports that \\nhe has been feeling progressively worse over the past week and had a fever of 102°F at home. He \\nwas brought to the emergency department where he was found to be hypotensive and \\ntachycardic. \\nObjective: \\n• \\nVitals: \\no Temperature: 101.8°F \\no Heart Rate: 110 bpm \\no Blood Pressure: 85/55 mmHg \\no Respiratory Rate: 24 breaths/min \\no SpO2: 92% on room air \\n• \\nPhysical Exam: \\no General: Ill-appearing, diaphoretic \\no HEENT: No significant findings \\no Cardiovascular: Tachycardia, no murmurs \\no Respiratory: Tachypneic, coarse crackles at bases \\no Abdomen: Soft, non-tender \\no Extremities: No edema \\no Neurological: Alert, oriented to person only, follows simple commands \\n• \\nLabs/Imaging: \\no CBC: WBC 18,000/µL, Hgb 12.5 g/dL, Platelets 150,000/µL \\no BMP: Na 138 mmol/L, K 4.2 mmol/L, Cl 102 mmol/L, HCO3 20 mmol/L, BUN \\n28 mg/dL, Cr 1.8 mg/dL, Glucose 190 mg/dL \\no Lactic Acid: 4.5 mmol/L \\no Blood Cultures: Pending \\no Chest X-ray: Bilateral infiltrates \\nAssessment: \\n1. Sepsis secondary to presumed pneumonia: \\no The patient presents with fever, tachycardia, hypotension, and respiratory distress. \\nBlood cultures are pending. \\no Elevated WBC and lactic acid levels indicate significant infection and \\nhypoperfusion. \\n2. Hypertension: \\no History of hypertension, currently managed with home medications. \\n3. Type 2 Diabetes Mellitus: \\no Chronic condition, currently on metformin. \\nPlan: \\n1. Sepsis: \\no Continue IV fluids and broad-spectrum antibiotics (Vancomycin and Piperacillin-\\nTazobactam). \\no Monitor vitals closely. \\no Repeat lactate level in 6 hours. \\no Transfer to ICU for close monitoring and possible vasopressor support. \\n2. Hypertension: \\no Hold antihypertensive medications due to current hypotension. \\n3. Diabetes Management: \\no Monitor blood glucose levels every 4 hours. \\no Continue sliding scale insulin. \\n \\nFollow-Up Note (2024-06-14): \\nSubjective: \\nPatient shows slight improvement in mental status, now oriented to person and place. Fever \\npersists. The family reports that he had been in close contact with a relative who was recently \\ndiagnosed with influenza. \\nObjective: \\n• \\nVitals: \\no Temperature: 100.5°F \\no Heart Rate: 100 bpm \\no Blood Pressure: 90/60 mmHg \\no Respiratory Rate: 20 breaths/min \\no SpO2: 94% on room air \\n• \\nLabs/Imaging: \\no Repeat Lactic Acid: 3.0 mmol/L \\no Blood Cultures: Negative \\no Influenza PCR: Positive for Influenza A \\nAssessment: \\n1. Influenza with secondary bacterial infection: \\no Initial presentation suggested sepsis, but blood cultures are negative and influenza \\nPCR is positive. \\no Likely secondary bacterial pneumonia contributing to the sepsis-like picture. \\n2. Hypertension: \\no Continue to hold antihypertensive medications due to ongoing relative \\nhypotension. \\n3. Type 2 Diabetes Mellitus: \\no Continue monitoring and sliding scale insulin. \\nPlan: \\n1. Influenza: \\no Discontinue broad-spectrum antibiotics. \\no Start antiviral therapy (Oseltamivir). \\no Continue supportive care with fluids and antipyretics. \\no Monitor for any signs of secondary bacterial infection. \\n2. Hypertension: \\no Re-evaluate blood pressure management once the patient stabilizes. \\n3. Diabetes Management: \\no Continue monitoring and sliding scale insulin. \\no Adjust insulin doses as needed based on blood glucose readings. \\n \\nSigned: \\nDr. Jane Smith, MD \\nAttending Physician \\n4o \\n \\n\""
      ]
     },
     "execution_count": 5,
     "metadata": {},
     "output_type": "execute_result"
    }
   ],
   "source": [
    "progress_notes_text"
   ]
  },
  {
   "cell_type": "markdown",
   "id": "62a6c06e",
   "metadata": {},
   "source": [
    "### Load HL7 Message, Extract Primary Diagnosis and DRG"
   ]
  },
  {
   "cell_type": "code",
   "execution_count": 6,
   "id": "a75f1200",
   "metadata": {},
   "outputs": [
    {
     "name": "stdout",
     "output_type": "stream",
     "text": [
      "HL7 Message:\n",
      "\n",
      "MSH|^~\\&|HIS|RIH|EKG|EKG|202406131030||ADT^A08|MSG00001|P|2.3\n",
      "EVN|A08|202406131030|||1234567\n",
      "PID|1||12345678^^^HIS^MR||DOE^JOHN^A||19580615|M|||123 MAIN ST^^HOMETOWN^CA^99999^USA||(555)555-5555|||M|S||123456789|987-65-4320\n",
      "PV1|1|I|ICU^101^1^RIH||||1234^Smith^Jane^A|||MED|||||12345678|A|||||||||||||||||||20240610\n",
      "DG1|1||A41.9^Sepsis, unspecified organism^I10|Sepsis|20240610|A\n",
      "DRG|871|0|20240613\n",
      "PR1|1|ICD10PCS|5A1D60Z^Respiratory Ventilation, Less than 24 Consecutive Hours^I10|20240611\n",
      "\n",
      "\n",
      "RegEx Extraction:\n",
      "\n",
      "Encounter ID: 202406131030\n",
      "DRG: 871\n",
      "Primary Diagnosis: A41.9\n"
     ]
    }
   ],
   "source": [
    "# Function to read HL7 message from a text file\n",
    "with open('MWE - Sepsis/HL7.txt', 'r') as file:\n",
    "    hl7_message = file.read()\n",
    "\n",
    "# Regular expressions to extract DRG and ICD codes\n",
    "drg_pattern = r\"DRG\\|(\\d+)\\|\"  # Matches DRG|<code>|\n",
    "PD_pattern = r\"DG1\\|1\\|\\|(.*?)\\|\"  # Matches DG1|1||<code>|\n",
    "encounter_id_pattern = r\"EVN\\|.*\\|([0-9]{12})\\|\"\n",
    "\n",
    "# Extract DRG code\n",
    "drg_match = re.search(drg_pattern, hl7_message)\n",
    "if drg_match:\n",
    "    drg_code = drg_match.group(1)\n",
    "else:\n",
    "    drg_code = \"Not found\"\n",
    "\n",
    "# Extract ICD code\n",
    "PD_match = re.search(PD_pattern, hl7_message)\n",
    "if PD_match:\n",
    "    PD_ICD = PD_match.group(1).split(\"^\")[0]  # Extract only the ICD code without additional details\n",
    "else:\n",
    "    PD_ICD = \"Not found\"\n",
    "    \n",
    "\n",
    "\n",
    "# Extract Encounter ID\n",
    "encounter_id_match = re.search(encounter_id_pattern, hl7_message)\n",
    "if encounter_id_match:\n",
    "    encounter_id = encounter_id_match.group(1)\n",
    "else:\n",
    "    encounter_id = \"Not found\"\n",
    "\n",
    "\n",
    "# Print the extracted codes\n",
    "print('HL7 Message:')\n",
    "print()\n",
    "print(hl7_message)\n",
    "print()\n",
    "print('RegEx Extraction:')\n",
    "print()\n",
    "print(f\"Encounter ID: {encounter_id}\")\n",
    "print(f\"DRG: {drg_code}\")\n",
    "print(f\"Primary Diagnosis: {PD_ICD}\")"
   ]
  },
  {
   "cell_type": "markdown",
   "id": "a3b6d3ec",
   "metadata": {},
   "source": [
    "### Option A) Use GPT 3.5 to compile information into structured table  "
   ]
  },
  {
   "cell_type": "markdown",
   "id": "73c3593d",
   "metadata": {},
   "source": [
    "#### Prep Few-Shot Learning Examples"
   ]
  },
  {
   "cell_type": "code",
   "execution_count": 6,
   "id": "23c8ce51",
   "metadata": {},
   "outputs": [],
   "source": [
    "#%pip install langchain\n",
    "from langchain.prompts.few_shot import FewShotPromptTemplate"
   ]
  },
  {
   "cell_type": "code",
   "execution_count": 22,
   "id": "9ae85642",
   "metadata": {},
   "outputs": [],
   "source": [
    "import ast\n",
    "\n",
    "#plain text examples\n",
    "progress_notes2_text = extract_text_from_pdf('MWE - Sepsis/Progress Notes/Progress Notes 2.pdf')\n",
    "progress_notes3_text = extract_text_from_pdf('MWE - Sepsis/Progress Notes/Progress Notes 3.pdf')\n",
    "\n",
    "#desired array outputs for examples\n",
    "with open('MWE - Sepsis/Progress Notes/progress_notes2_array.txt', 'r') as file:\n",
    "    progress_notes2_array_raw = file.read()\n",
    "with open('MWE - Sepsis/Progress Notes/progress_notes3_array.txt', 'r') as file:\n",
    "    progress_notes3_array_raw = file.read()\n",
    "\n",
    "#read in the notes literaly and convert to array\n",
    "progress_notes2_array = ast.literal_eval(progress_notes2_array_raw)\n",
    "progress_notes3_array = ast.literal_eval(progress_notes3_array_raw)\n",
    "\n",
    "#set up few-shot examples with lists\n",
    "examples = [\n",
    "    {\"Note\": progress_notes2_text\n",
    "    ,\"Array\": progress_notes2_array}\n",
    "    #,{\"Note\": progress_notes3_text\n",
    "    # ,\"Array\": progress_notes3_array}\n",
    "]"
   ]
  },
  {
   "cell_type": "markdown",
   "id": "ec4091a1",
   "metadata": {},
   "source": [
    "#### Create formatter for the few shot examlpes"
   ]
  },
  {
   "cell_type": "code",
   "execution_count": 27,
   "id": "ef51ee97",
   "metadata": {},
   "outputs": [
    {
     "name": "stdout",
     "output_type": "stream",
     "text": [
      "Progress Note: Day 1 - Admission \n",
      "Date: 2024-06-10 \n",
      "Time: 10:00 AM \n",
      "Physician: Dr. Jane Smith \n",
      "Subjective: \n",
      "• \n",
      "Patient is a 65-year-old male with a history of COPD and hypertension, presenting with \n",
      "shortness of breath, fever, and productive cough for the past 3 days. \n",
      "Objective: \n",
      "• \n",
      "Vital Signs: BP 140/85, HR 100, RR 24, Temp 101.5°F, SpO2 88% on room air. \n",
      "• \n",
      "General: Appears ill and in mild respiratory distress. \n",
      "• \n",
      "Lungs: Decreased breath sounds with crackles in the right lower lobe. \n",
      "• \n",
      "Cardiac: Regular rhythm, no murmurs. \n",
      "• \n",
      "Labs: Elevated WBC count of 15,000/µL. \n",
      "• \n",
      "Imaging: Chest X-ray shows right lower lobe infiltrate consistent with pneumonia. \n",
      "Assessment: \n",
      "• \n",
      "Community-acquired pneumonia, likely bacterial. \n",
      "• \n",
      "COPD exacerbation. \n",
      "• \n",
      "Hypertension, stable. \n",
      "Plan: \n",
      "1. Admit to inpatient medical ward. \n",
      "2. Start IV antibiotics: Ceftriaxone and Azithromycin. \n",
      "3. Administer oxygen via nasal cannula to maintain SpO2 > 92%. \n",
      "4. Nebulizer treatments with albuterol every 4 hours. \n",
      "5. Acetaminophen for fever. \n",
      "6. Continue home medications for hypertension. \n",
      "7. Monitor vitals, intake and output, and respiratory status closely. \n",
      "Day 2 \n",
      "Date: 2024-06-11 \n",
      "Time: 9:00 AM \n",
      "Physician: Dr. Jane Smith \n",
      "Subjective: \n",
      "• \n",
      "Patient reports slight improvement in breathing but still has productive cough and feels \n",
      "weak. \n",
      "Objective: \n",
      "• \n",
      "Vital Signs: BP 138/82, HR 95, RR 22, Temp 100.2°F, SpO2 90% on 2L O2 via nasal \n",
      "cannula. \n",
      "• \n",
      "Lungs: Persistent crackles in the right lower lobe, but breath sounds are slightly \n",
      "improved. \n",
      "• \n",
      "Labs: WBC count slightly decreased to 13,500/µL. \n",
      "Assessment: \n",
      "• \n",
      "Community-acquired pneumonia, showing initial response to treatment. \n",
      "• \n",
      "COPD exacerbation, improving. \n",
      "• \n",
      "Hypertension, stable. \n",
      "Plan: \n",
      "1. Continue current antibiotic regimen. \n",
      "2. Continue oxygen therapy, may titrate down as tolerated. \n",
      "3. Continue nebulizer treatments every 4 hours. \n",
      "4. Reassess need for acetaminophen based on fever. \n",
      "5. Encourage fluids and ambulation as tolerated. \n",
      "6. Monitor for any signs of clinical deterioration. \n",
      "Day 3 \n",
      "Date: 2024-06-12 \n",
      "Time: 8:30 AM \n",
      "Physician: Dr. Jane Smith \n",
      "Subjective: \n",
      "• \n",
      "Patient reports feeling better overall, with reduced shortness of breath and fever. Cough is \n",
      "still present but less productive. \n",
      "Objective: \n",
      "• \n",
      "Vital Signs: BP 135/80, HR 90, RR 20, Temp 99.0°F, SpO2 92% on room air. \n",
      "• \n",
      "Lungs: Crackles still present in the right lower lobe but less pronounced. \n",
      "• \n",
      "Labs: WBC count normalizing at 11,000/µL. \n",
      "Assessment: \n",
      "• \n",
      "Community-acquired pneumonia, improving. \n",
      "• \n",
      "COPD exacerbation, improving. \n",
      "• \n",
      "Hypertension, stable. \n",
      "Plan: \n",
      "1. Switch from IV to oral antibiotics if patient continues to improve \n",
      "(Amoxicillin/Clavulanate). \n",
      "2. Discontinue oxygen therapy if SpO2 remains stable on room air. \n",
      "3. Continue nebulizer treatments, reassess frequency. \n",
      "4. Encourage deep breathing exercises and continued ambulation. \n",
      "5. Plan for possible discharge in the next 24-48 hours if patient remains stable. \n",
      "6. Schedule follow-up with primary care physician post-discharge. \n",
      "Day 4 \n",
      "Date: 2024-06-13 \n",
      "Time: 9:00 AM \n",
      "Physician: Dr. Jane Smith \n",
      "Subjective: \n",
      "• \n",
      "Patient reports significant improvement, minimal shortness of breath, and cough is less \n",
      "frequent and non-productive. \n",
      "Objective: \n",
      "• \n",
      "Vital Signs: BP 132/78, HR 85, RR 18, Temp 98.6°F, SpO2 94% on room air. \n",
      "• \n",
      "Lungs: Mild crackles in the right lower lobe, overall improved. \n",
      "• \n",
      "Labs: WBC count within normal limits at 9,500/µL. \n",
      "Assessment: \n",
      "• \n",
      "Community-acquired pneumonia, significantly improved. \n",
      "• \n",
      "COPD exacerbation, resolving. \n",
      "• \n",
      "Hypertension, stable. \n",
      "Plan: \n",
      "1. Discharge patient today with oral antibiotics (Amoxicillin/Clavulanate for 5 more days). \n",
      "2. Provide instructions on home nebulizer treatments as needed. \n",
      "3. Educate patient on signs of recurrence or complications (fever, increased shortness of \n",
      "breath, chest pain). \n",
      "4. Ensure follow-up appointment with primary care physician in 1 week. \n",
      "5. Reinforce importance of smoking cessation and provide resources for support. \n",
      " \n",
      "\n",
      " Array: ['Day 1 - Admission \\nDate: 2024-06-10 \\nTime: 10:00 AM \\nPhysician: Dr. Jane Smith \\nSubjective: \\nâ€¢ \\nPatient is a 65-year-old male with a history of COPD and hypertension, presenting with \\nshortness of breath, fever, and productive cough for the past 3 days. \\nObjective: \\nâ€¢ \\nVital Signs: BP 140/85, HR 100, RR 24, Temp 101.5Â°F, SpO2 88% on room air. \\nâ€¢ \\nGeneral: Appears ill and in mild respiratory distress. \\nâ€¢ \\nLungs: Decreased breath sounds with crackles in the right lower lobe. \\nâ€¢ \\nCardiac: Regular rhythm, no murmurs. \\nâ€¢ \\nLabs: Elevated WBC count of 15,000/ÂµL. \\nâ€¢ \\nImaging: Chest X-ray shows right lower lobe infiltrate consistent with pneumonia. \\nAssessment: \\nâ€¢ \\nCommunity-acquired pneumonia, likely bacterial. \\nâ€¢ \\nCOPD exacerbation. \\nâ€¢ \\nHypertension, stable. \\nPlan: \\n1. Admit to inpatient medical ward. \\n2. Start IV antibiotics: Ceftriaxone and Azithromycin. \\n3. Administer oxygen via nasal cannula to maintain SpO2 > 92%. \\n4. Nebulizer treatments with albuterol every 4 hours. \\n5. Acetaminophen for fever. \\n6. Continue home medications for hypertension. \\n7. Monitor vitals, intake and output, and respiratory status closely. \\n', 'Day 2 \\nDate: 2024-06-11 \\nTime: 9:00 AM \\nPhysician: Dr. Jane Smith \\nSubjective: \\nâ€¢ \\nPatient reports slight improvement in breathing but still has productive cough and feels \\nweak. \\nObjective: \\nâ€¢ \\nVital Signs: BP 138/82, HR 95, RR 22, Temp 100.2Â°F, SpO2 90% on 2L O2 via nasal \\ncannula. \\nâ€¢ \\nLungs: Persistent crackles in the right lower lobe, but breath sounds are slightly \\nimproved. \\nâ€¢ \\nLabs: WBC count slightly decreased to 13,500/ÂµL. \\nAssessment: \\nâ€¢ \\nCommunity-acquired pneumonia, showing initial response to treatment. \\nâ€¢ \\nCOPD exacerbation, improving. \\nâ€¢ \\nHypertension, stable. \\nPlan: \\n1. Continue current antibiotic regimen. \\n2. Continue oxygen therapy, may titrate down as tolerated. \\n3. Continue nebulizer treatments every 4 hours. \\n4. Reassess need for acetaminophen based on fever. \\n5. Encourage fluids and ambulation as tolerated. \\n6. Monitor for any signs of clinical deterioration. \\n', 'Day 3 \\nDate: 2024-06-12 \\nTime: 8:30 AM \\nPhysician: Dr. Jane Smith \\nSubjective: \\nâ€¢ \\nPatient reports feeling better overall, with reduced shortness of breath and fever. Cough is \\nstill present but less productive. \\nObjective: \\nâ€¢ \\nVital Signs: BP 135/80, HR 90, RR 20, Temp 99.0Â°F, SpO2 92% on room air. \\nâ€¢ \\nLungs: Crackles still present in the right lower lobe but less pronounced. \\nâ€¢ \\nLabs: WBC count normalizing at 11,000/ÂµL. \\nAssessment: \\nâ€¢ \\nCommunity-acquired pneumonia, improving. \\nâ€¢ \\nCOPD exacerbation, improving. \\nâ€¢ \\nHypertension, stable. \\nPlan: \\n1. Switch from IV to oral antibiotics if patient continues to improve \\n(Amoxicillin/Clavulanate). \\n2. Discontinue oxygen therapy if SpO2 remains stable on room air. \\n3. Continue nebulizer treatments, reassess frequency. \\n4. Encourage deep breathing exercises and continued ambulation. \\n5. Plan for possible discharge in the next 24-48 hours if patient remains stable. \\n6. Schedule follow-up with primary care physician post-discharge. \\n', 'Day 4 \\nDate: 2024-06-13 \\nTime: 9:00 AM \\nPhysician: Dr. Jane Smith \\nSubjective: \\nâ€¢ \\nPatient reports significant improvement, minimal shortness of breath, and cough is less \\nfrequent and non-productive. \\nObjective: \\nâ€¢ \\nVital Signs: BP 132/78, HR 85, RR 18, Temp 98.6Â°F, SpO2 94% on room air. \\nâ€¢ \\nLungs: Mild crackles in the right lower lobe, overall improved. \\nâ€¢ \\nLabs: WBC count within normal limits at 9,500/ÂµL. \\nAssessment: \\nâ€¢ \\nCommunity-acquired pneumonia, significantly improved. \\nâ€¢ \\nCOPD exacerbation, resolving. \\nâ€¢ \\nHypertension, stable. \\nPlan: \\n1. Discharge patient today with oral antibiotics (Amoxicillin/Clavulanate for 5 more days). \\n2. Provide instructions on home nebulizer treatments as needed. \\n3. Educate patient on signs of recurrence or complications (fever, increased shortness of \\nbreath, chest pain). \\n4. Ensure follow-up appointment with primary care physician in 1 week. \\n5. Reinforce importance of smoking cessation and provide resources for support. \\n \\n']\n"
     ]
    }
   ],
   "source": [
    "from langchain_core.prompts.prompt import PromptTemplate\n",
    "\n",
    "example_prompt = PromptTemplate(\n",
    "    input_variables=[\"Note\", \"Array\"], template=\"Progress Note: {Note}\\n Array: {Array}\"\n",
    ")\n",
    "\n",
    "print(example_prompt.format(**examples[0]))"
   ]
  },
  {
   "cell_type": "markdown",
   "id": "ed069539",
   "metadata": {},
   "source": [
    "#### Feed examples and formatter to FewShotPromptTemplate"
   ]
  },
  {
   "cell_type": "code",
   "execution_count": 31,
   "id": "83cd0ccd",
   "metadata": {},
   "outputs": [
    {
     "name": "stdout",
     "output_type": "stream",
     "text": [
      "Progress Note: Day 1 - Admission \n",
      "Date: 2024-06-10 \n",
      "Time: 10:00 AM \n",
      "Physician: Dr. Jane Smith \n",
      "Subjective: \n",
      "• \n",
      "Patient is a 65-year-old male with a history of COPD and hypertension, presenting with \n",
      "shortness of breath, fever, and productive cough for the past 3 days. \n",
      "Objective: \n",
      "• \n",
      "Vital Signs: BP 140/85, HR 100, RR 24, Temp 101.5°F, SpO2 88% on room air. \n",
      "• \n",
      "General: Appears ill and in mild respiratory distress. \n",
      "• \n",
      "Lungs: Decreased breath sounds with crackles in the right lower lobe. \n",
      "• \n",
      "Cardiac: Regular rhythm, no murmurs. \n",
      "• \n",
      "Labs: Elevated WBC count of 15,000/µL. \n",
      "• \n",
      "Imaging: Chest X-ray shows right lower lobe infiltrate consistent with pneumonia. \n",
      "Assessment: \n",
      "• \n",
      "Community-acquired pneumonia, likely bacterial. \n",
      "• \n",
      "COPD exacerbation. \n",
      "• \n",
      "Hypertension, stable. \n",
      "Plan: \n",
      "1. Admit to inpatient medical ward. \n",
      "2. Start IV antibiotics: Ceftriaxone and Azithromycin. \n",
      "3. Administer oxygen via nasal cannula to maintain SpO2 > 92%. \n",
      "4. Nebulizer treatments with albuterol every 4 hours. \n",
      "5. Acetaminophen for fever. \n",
      "6. Continue home medications for hypertension. \n",
      "7. Monitor vitals, intake and output, and respiratory status closely. \n",
      "Day 2 \n",
      "Date: 2024-06-11 \n",
      "Time: 9:00 AM \n",
      "Physician: Dr. Jane Smith \n",
      "Subjective: \n",
      "• \n",
      "Patient reports slight improvement in breathing but still has productive cough and feels \n",
      "weak. \n",
      "Objective: \n",
      "• \n",
      "Vital Signs: BP 138/82, HR 95, RR 22, Temp 100.2°F, SpO2 90% on 2L O2 via nasal \n",
      "cannula. \n",
      "• \n",
      "Lungs: Persistent crackles in the right lower lobe, but breath sounds are slightly \n",
      "improved. \n",
      "• \n",
      "Labs: WBC count slightly decreased to 13,500/µL. \n",
      "Assessment: \n",
      "• \n",
      "Community-acquired pneumonia, showing initial response to treatment. \n",
      "• \n",
      "COPD exacerbation, improving. \n",
      "• \n",
      "Hypertension, stable. \n",
      "Plan: \n",
      "1. Continue current antibiotic regimen. \n",
      "2. Continue oxygen therapy, may titrate down as tolerated. \n",
      "3. Continue nebulizer treatments every 4 hours. \n",
      "4. Reassess need for acetaminophen based on fever. \n",
      "5. Encourage fluids and ambulation as tolerated. \n",
      "6. Monitor for any signs of clinical deterioration. \n",
      "Day 3 \n",
      "Date: 2024-06-12 \n",
      "Time: 8:30 AM \n",
      "Physician: Dr. Jane Smith \n",
      "Subjective: \n",
      "• \n",
      "Patient reports feeling better overall, with reduced shortness of breath and fever. Cough is \n",
      "still present but less productive. \n",
      "Objective: \n",
      "• \n",
      "Vital Signs: BP 135/80, HR 90, RR 20, Temp 99.0°F, SpO2 92% on room air. \n",
      "• \n",
      "Lungs: Crackles still present in the right lower lobe but less pronounced. \n",
      "• \n",
      "Labs: WBC count normalizing at 11,000/µL. \n",
      "Assessment: \n",
      "• \n",
      "Community-acquired pneumonia, improving. \n",
      "• \n",
      "COPD exacerbation, improving. \n",
      "• \n",
      "Hypertension, stable. \n",
      "Plan: \n",
      "1. Switch from IV to oral antibiotics if patient continues to improve \n",
      "(Amoxicillin/Clavulanate). \n",
      "2. Discontinue oxygen therapy if SpO2 remains stable on room air. \n",
      "3. Continue nebulizer treatments, reassess frequency. \n",
      "4. Encourage deep breathing exercises and continued ambulation. \n",
      "5. Plan for possible discharge in the next 24-48 hours if patient remains stable. \n",
      "6. Schedule follow-up with primary care physician post-discharge. \n",
      "Day 4 \n",
      "Date: 2024-06-13 \n",
      "Time: 9:00 AM \n",
      "Physician: Dr. Jane Smith \n",
      "Subjective: \n",
      "• \n",
      "Patient reports significant improvement, minimal shortness of breath, and cough is less \n",
      "frequent and non-productive. \n",
      "Objective: \n",
      "• \n",
      "Vital Signs: BP 132/78, HR 85, RR 18, Temp 98.6°F, SpO2 94% on room air. \n",
      "• \n",
      "Lungs: Mild crackles in the right lower lobe, overall improved. \n",
      "• \n",
      "Labs: WBC count within normal limits at 9,500/µL. \n",
      "Assessment: \n",
      "• \n",
      "Community-acquired pneumonia, significantly improved. \n",
      "• \n",
      "COPD exacerbation, resolving. \n",
      "• \n",
      "Hypertension, stable. \n",
      "Plan: \n",
      "1. Discharge patient today with oral antibiotics (Amoxicillin/Clavulanate for 5 more days). \n",
      "2. Provide instructions on home nebulizer treatments as needed. \n",
      "3. Educate patient on signs of recurrence or complications (fever, increased shortness of \n",
      "breath, chest pain). \n",
      "4. Ensure follow-up appointment with primary care physician in 1 week. \n",
      "5. Reinforce importance of smoking cessation and provide resources for support. \n",
      " \n",
      "\n",
      " Array: ['Day 1 - Admission \\nDate: 2024-06-10 \\nTime: 10:00 AM \\nPhysician: Dr. Jane Smith \\nSubjective: \\nâ€¢ \\nPatient is a 65-year-old male with a history of COPD and hypertension, presenting with \\nshortness of breath, fever, and productive cough for the past 3 days. \\nObjective: \\nâ€¢ \\nVital Signs: BP 140/85, HR 100, RR 24, Temp 101.5Â°F, SpO2 88% on room air. \\nâ€¢ \\nGeneral: Appears ill and in mild respiratory distress. \\nâ€¢ \\nLungs: Decreased breath sounds with crackles in the right lower lobe. \\nâ€¢ \\nCardiac: Regular rhythm, no murmurs. \\nâ€¢ \\nLabs: Elevated WBC count of 15,000/ÂµL. \\nâ€¢ \\nImaging: Chest X-ray shows right lower lobe infiltrate consistent with pneumonia. \\nAssessment: \\nâ€¢ \\nCommunity-acquired pneumonia, likely bacterial. \\nâ€¢ \\nCOPD exacerbation. \\nâ€¢ \\nHypertension, stable. \\nPlan: \\n1. Admit to inpatient medical ward. \\n2. Start IV antibiotics: Ceftriaxone and Azithromycin. \\n3. Administer oxygen via nasal cannula to maintain SpO2 > 92%. \\n4. Nebulizer treatments with albuterol every 4 hours. \\n5. Acetaminophen for fever. \\n6. Continue home medications for hypertension. \\n7. Monitor vitals, intake and output, and respiratory status closely. \\n', 'Day 2 \\nDate: 2024-06-11 \\nTime: 9:00 AM \\nPhysician: Dr. Jane Smith \\nSubjective: \\nâ€¢ \\nPatient reports slight improvement in breathing but still has productive cough and feels \\nweak. \\nObjective: \\nâ€¢ \\nVital Signs: BP 138/82, HR 95, RR 22, Temp 100.2Â°F, SpO2 90% on 2L O2 via nasal \\ncannula. \\nâ€¢ \\nLungs: Persistent crackles in the right lower lobe, but breath sounds are slightly \\nimproved. \\nâ€¢ \\nLabs: WBC count slightly decreased to 13,500/ÂµL. \\nAssessment: \\nâ€¢ \\nCommunity-acquired pneumonia, showing initial response to treatment. \\nâ€¢ \\nCOPD exacerbation, improving. \\nâ€¢ \\nHypertension, stable. \\nPlan: \\n1. Continue current antibiotic regimen. \\n2. Continue oxygen therapy, may titrate down as tolerated. \\n3. Continue nebulizer treatments every 4 hours. \\n4. Reassess need for acetaminophen based on fever. \\n5. Encourage fluids and ambulation as tolerated. \\n6. Monitor for any signs of clinical deterioration. \\n', 'Day 3 \\nDate: 2024-06-12 \\nTime: 8:30 AM \\nPhysician: Dr. Jane Smith \\nSubjective: \\nâ€¢ \\nPatient reports feeling better overall, with reduced shortness of breath and fever. Cough is \\nstill present but less productive. \\nObjective: \\nâ€¢ \\nVital Signs: BP 135/80, HR 90, RR 20, Temp 99.0Â°F, SpO2 92% on room air. \\nâ€¢ \\nLungs: Crackles still present in the right lower lobe but less pronounced. \\nâ€¢ \\nLabs: WBC count normalizing at 11,000/ÂµL. \\nAssessment: \\nâ€¢ \\nCommunity-acquired pneumonia, improving. \\nâ€¢ \\nCOPD exacerbation, improving. \\nâ€¢ \\nHypertension, stable. \\nPlan: \\n1. Switch from IV to oral antibiotics if patient continues to improve \\n(Amoxicillin/Clavulanate). \\n2. Discontinue oxygen therapy if SpO2 remains stable on room air. \\n3. Continue nebulizer treatments, reassess frequency. \\n4. Encourage deep breathing exercises and continued ambulation. \\n5. Plan for possible discharge in the next 24-48 hours if patient remains stable. \\n6. Schedule follow-up with primary care physician post-discharge. \\n', 'Day 4 \\nDate: 2024-06-13 \\nTime: 9:00 AM \\nPhysician: Dr. Jane Smith \\nSubjective: \\nâ€¢ \\nPatient reports significant improvement, minimal shortness of breath, and cough is less \\nfrequent and non-productive. \\nObjective: \\nâ€¢ \\nVital Signs: BP 132/78, HR 85, RR 18, Temp 98.6Â°F, SpO2 94% on room air. \\nâ€¢ \\nLungs: Mild crackles in the right lower lobe, overall improved. \\nâ€¢ \\nLabs: WBC count within normal limits at 9,500/ÂµL. \\nAssessment: \\nâ€¢ \\nCommunity-acquired pneumonia, significantly improved. \\nâ€¢ \\nCOPD exacerbation, resolving. \\nâ€¢ \\nHypertension, stable. \\nPlan: \\n1. Discharge patient today with oral antibiotics (Amoxicillin/Clavulanate for 5 more days). \\n2. Provide instructions on home nebulizer treatments as needed. \\n3. Educate patient on signs of recurrence or complications (fever, increased shortness of \\nbreath, chest pain). \\n4. Ensure follow-up appointment with primary care physician in 1 week. \\n5. Reinforce importance of smoking cessation and provide resources for support. \\n \\n']\n",
      "\n",
      "Turn this Progress Note into an Array: Progress Notes \n",
      "Patient Name: John Doe \n",
      "MRN: 12345678 \n",
      "Date of Admission: 2024-06-10 \n",
      "Date of Note: 2024-06-13 \n",
      "Attending Physician: Dr. Jane Smith \n",
      "Unit: ICU \n",
      " \n",
      "Subjective: \n",
      "Patient is a 65-year-old male with a history of hypertension and type 2 diabetes mellitus who was \n",
      "admitted three days ago with high fever, chills, and confusion. The patient's family reports that \n",
      "he has been feeling progressively worse over the past week and had a fever of 102°F at home. He \n",
      "was brought to the emergency department where he was found to be hypotensive and \n",
      "tachycardic. \n",
      "Objective: \n",
      "• \n",
      "Vitals: \n",
      "o Temperature: 101.8°F \n",
      "o Heart Rate: 110 bpm \n",
      "o Blood Pressure: 85/55 mmHg \n",
      "o Respiratory Rate: 24 breaths/min \n",
      "o SpO2: 92% on room air \n",
      "• \n",
      "Physical Exam: \n",
      "o General: Ill-appearing, diaphoretic \n",
      "o HEENT: No significant findings \n",
      "o Cardiovascular: Tachycardia, no murmurs \n",
      "o Respiratory: Tachypneic, coarse crackles at bases \n",
      "o Abdomen: Soft, non-tender \n",
      "o Extremities: No edema \n",
      "o Neurological: Alert, oriented to person only, follows simple commands \n",
      "• \n",
      "Labs/Imaging: \n",
      "o CBC: WBC 18,000/µL, Hgb 12.5 g/dL, Platelets 150,000/µL \n",
      "o BMP: Na 138 mmol/L, K 4.2 mmol/L, Cl 102 mmol/L, HCO3 20 mmol/L, BUN \n",
      "28 mg/dL, Cr 1.8 mg/dL, Glucose 190 mg/dL \n",
      "o Lactic Acid: 4.5 mmol/L \n",
      "o Blood Cultures: Pending \n",
      "o Chest X-ray: Bilateral infiltrates \n",
      "Assessment: \n",
      "1. Sepsis secondary to presumed pneumonia: \n",
      "o The patient presents with fever, tachycardia, hypotension, and respiratory distress. \n",
      "Blood cultures are pending. \n",
      "o Elevated WBC and lactic acid levels indicate significant infection and \n",
      "hypoperfusion. \n",
      "2. Hypertension: \n",
      "o History of hypertension, currently managed with home medications. \n",
      "3. Type 2 Diabetes Mellitus: \n",
      "o Chronic condition, currently on metformin. \n",
      "Plan: \n",
      "1. Sepsis: \n",
      "o Continue IV fluids and broad-spectrum antibiotics (Vancomycin and Piperacillin-\n",
      "Tazobactam). \n",
      "o Monitor vitals closely. \n",
      "o Repeat lactate level in 6 hours. \n",
      "o Transfer to ICU for close monitoring and possible vasopressor support. \n",
      "2. Hypertension: \n",
      "o Hold antihypertensive medications due to current hypotension. \n",
      "3. Diabetes Management: \n",
      "o Monitor blood glucose levels every 4 hours. \n",
      "o Continue sliding scale insulin. \n",
      " \n",
      "Follow-Up Note (2024-06-14): \n",
      "Subjective: \n",
      "Patient shows slight improvement in mental status, now oriented to person and place. Fever \n",
      "persists. The family reports that he had been in close contact with a relative who was recently \n",
      "diagnosed with influenza. \n",
      "Objective: \n",
      "• \n",
      "Vitals: \n",
      "o Temperature: 100.5°F \n",
      "o Heart Rate: 100 bpm \n",
      "o Blood Pressure: 90/60 mmHg \n",
      "o Respiratory Rate: 20 breaths/min \n",
      "o SpO2: 94% on room air \n",
      "• \n",
      "Labs/Imaging: \n",
      "o Repeat Lactic Acid: 3.0 mmol/L \n",
      "o Blood Cultures: Negative \n",
      "o Influenza PCR: Positive for Influenza A \n",
      "Assessment: \n",
      "1. Influenza with secondary bacterial infection: \n",
      "o Initial presentation suggested sepsis, but blood cultures are negative and influenza \n",
      "PCR is positive. \n",
      "o Likely secondary bacterial pneumonia contributing to the sepsis-like picture. \n",
      "2. Hypertension: \n",
      "o Continue to hold antihypertensive medications due to ongoing relative \n",
      "hypotension. \n",
      "3. Type 2 Diabetes Mellitus: \n",
      "o Continue monitoring and sliding scale insulin. \n",
      "Plan: \n",
      "1. Influenza: \n",
      "o Discontinue broad-spectrum antibiotics. \n",
      "o Start antiviral therapy (Oseltamivir). \n",
      "o Continue supportive care with fluids and antipyretics. \n",
      "o Monitor for any signs of secondary bacterial infection. \n",
      "2. Hypertension: \n",
      "o Re-evaluate blood pressure management once the patient stabilizes. \n",
      "3. Diabetes Management: \n",
      "o Continue monitoring and sliding scale insulin. \n",
      "o Adjust insulin doses as needed based on blood glucose readings. \n",
      " \n",
      "Signed: \n",
      "Dr. Jane Smith, MD \n",
      "Attending Physician \n",
      "4o \n",
      " \n",
      "\n"
     ]
    }
   ],
   "source": [
    "prompt = FewShotPromptTemplate(\n",
    "    examples=examples,\n",
    "    example_prompt=example_prompt,\n",
    "    suffix=\"Turn this Progress Note into an Array: {input}\",\n",
    "    input_variables=[\"input\"],\n",
    ")\n",
    "\n",
    "print(prompt.format(input=progress_notes_text))"
   ]
  },
  {
   "cell_type": "markdown",
   "id": "5f38bf7b",
   "metadata": {},
   "source": [
    "#### Run FewShotPrompt on GPT API"
   ]
  },
  {
   "cell_type": "code",
   "execution_count": 25,
   "id": "df365452",
   "metadata": {},
   "outputs": [],
   "source": [
    "#%pip install langchain_openai\n",
    "from langchain_openai import OpenAI\n",
    "\n",
    "model = OpenAI()"
   ]
  },
  {
   "cell_type": "code",
   "execution_count": 33,
   "id": "7494afe4",
   "metadata": {},
   "outputs": [],
   "source": [
    "output = model(prompt.format(input=progress_notes_text))"
   ]
  },
  {
   "cell_type": "code",
   "execution_count": 34,
   "id": "824e59bd",
   "metadata": {},
   "outputs": [
    {
     "data": {
      "text/plain": [
       "\"Array: ['Progress Notes', 'Patient Name: John Doe', 'MRN: 12345678', 'Date of Admission: 2024-06-10', 'Date of Note: 2024-06-13', 'Attending Physician: Dr. Jane Smith', 'Unit: ICU', 'Subjective:', 'Patient is a 65-year-old male with a history of hypertension and type 2 diabetes mellitus who was', 'admitted three days ago with high fever, chills, and confusion. The patient\\\\'s family reports that', 'he has been feeling progressively worse over the past week and had a fever of 102Â°F at home. He', 'was brought to the emergency department where he was found to be hypotensive and', 'tachycardic.', 'Objective:', 'â€¢', 'Vitals:', 'o Temperature: 101.8Â°F', 'o Heart Rate: 110 bpm', 'o Blood Pressure: 85/55 mmHg', 'o Respiratory Rate: 24 breaths/min', 'o SpO2: 92% on room air', 'â€¢', 'Physical Exam:', 'o General: Ill-appearing, diaphoret\""
      ]
     },
     "execution_count": 34,
     "metadata": {},
     "output_type": "execute_result"
    }
   ],
   "source": [
    "output"
   ]
  },
  {
   "cell_type": "markdown",
   "id": "72cdb447",
   "metadata": {},
   "source": [
    "This hasn't been working. I'm going to stick to HL7 inputs for relability"
   ]
  },
  {
   "cell_type": "markdown",
   "id": "f931d891",
   "metadata": {},
   "source": [
    "### Option B) Manually Seperate Progress Note"
   ]
  },
  {
   "cell_type": "code",
   "execution_count": 30,
   "id": "4165ca81",
   "metadata": {},
   "outputs": [],
   "source": [
    "#split progress notes, combine into array\n",
    "progress_note_1 = progress_notes_text[0:2198]\n",
    "progress_note_2 = progress_notes_text[2198:]\n",
    "\n",
    "progress_note_array = [progress_note_1,progress_note_2]"
   ]
  },
  {
   "cell_type": "code",
   "execution_count": 34,
   "id": "caaef318",
   "metadata": {},
   "outputs": [
    {
     "data": {
      "text/html": [
       "<div>\n",
       "<style scoped>\n",
       "    .dataframe tbody tr th:only-of-type {\n",
       "        vertical-align: middle;\n",
       "    }\n",
       "\n",
       "    .dataframe tbody tr th {\n",
       "        vertical-align: top;\n",
       "    }\n",
       "\n",
       "    .dataframe thead th {\n",
       "        text-align: right;\n",
       "    }\n",
       "</style>\n",
       "<table border=\"1\" class=\"dataframe\">\n",
       "  <thead>\n",
       "    <tr style=\"text-align: right;\">\n",
       "      <th></th>\n",
       "      <th>ProgessNote</th>\n",
       "      <th>PrimaryDiagnosis</th>\n",
       "      <th>MSDRG</th>\n",
       "    </tr>\n",
       "  </thead>\n",
       "  <tbody>\n",
       "    <tr>\n",
       "      <th>0</th>\n",
       "      <td>Progress Notes \\nPatient Name: John Doe \\nMRN:...</td>\n",
       "      <td>A41.9</td>\n",
       "      <td>871</td>\n",
       "    </tr>\n",
       "    <tr>\n",
       "      <th>1</th>\n",
       "      <td>Follow-Up Note (2024-06-14): \\nSubjective: \\nP...</td>\n",
       "      <td>A41.9</td>\n",
       "      <td>871</td>\n",
       "    </tr>\n",
       "  </tbody>\n",
       "</table>\n",
       "</div>"
      ],
      "text/plain": [
       "                                         ProgessNote PrimaryDiagnosis MSDRG\n",
       "0  Progress Notes \\nPatient Name: John Doe \\nMRN:...            A41.9   871\n",
       "1  Follow-Up Note (2024-06-14): \\nSubjective: \\nP...            A41.9   871"
      ]
     },
     "execution_count": 34,
     "metadata": {},
     "output_type": "execute_result"
    }
   ],
   "source": [
    "import pandas as pd\n",
    "\n",
    "data = []\n",
    "for i in range(len(progress_note_array)):\n",
    "    ProgessNote = f'{progress_note_array[i]}'\n",
    "    # Append a tuple (or list) of values to the data list\n",
    "    data.append((ProgessNote, PD_ICD, drg_code))\n",
    "\n",
    "# Convert the list of tuples to a DataFrame\n",
    "df = pd.DataFrame(data, columns=['ProgessNote', 'PrimaryDiagnosis', 'MSDRG'])\n",
    "\n",
    "# Display the DataFrame\n",
    "df"
   ]
  },
  {
   "cell_type": "code",
   "execution_count": null,
   "id": "c6b2398a",
   "metadata": {},
   "outputs": [],
   "source": []
  },
  {
   "cell_type": "code",
   "execution_count": null,
   "id": "036d5b67",
   "metadata": {},
   "outputs": [],
   "source": []
  },
  {
   "cell_type": "code",
   "execution_count": null,
   "id": "c702fb26",
   "metadata": {},
   "outputs": [],
   "source": []
  },
  {
   "cell_type": "code",
   "execution_count": null,
   "id": "1c9640eb",
   "metadata": {},
   "outputs": [],
   "source": []
  },
  {
   "cell_type": "code",
   "execution_count": null,
   "id": "c2eff95f",
   "metadata": {},
   "outputs": [],
   "source": []
  },
  {
   "cell_type": "code",
   "execution_count": null,
   "id": "c8e61f56",
   "metadata": {},
   "outputs": [],
   "source": []
  },
  {
   "cell_type": "code",
   "execution_count": null,
   "id": "b5cc32d8",
   "metadata": {},
   "outputs": [],
   "source": []
  },
  {
   "cell_type": "code",
   "execution_count": null,
   "id": "d76b3627",
   "metadata": {},
   "outputs": [],
   "source": []
  },
  {
   "cell_type": "code",
   "execution_count": null,
   "id": "2ea8c090",
   "metadata": {},
   "outputs": [],
   "source": []
  },
  {
   "cell_type": "code",
   "execution_count": null,
   "id": "3977f76c",
   "metadata": {},
   "outputs": [],
   "source": []
  },
  {
   "cell_type": "code",
   "execution_count": null,
   "id": "66b60f4c",
   "metadata": {},
   "outputs": [],
   "source": []
  },
  {
   "cell_type": "code",
   "execution_count": null,
   "id": "9ff3000d",
   "metadata": {},
   "outputs": [],
   "source": []
  },
  {
   "cell_type": "code",
   "execution_count": null,
   "id": "b75314f3",
   "metadata": {},
   "outputs": [],
   "source": []
  },
  {
   "cell_type": "code",
   "execution_count": null,
   "id": "ac05e59a",
   "metadata": {},
   "outputs": [],
   "source": []
  },
  {
   "cell_type": "code",
   "execution_count": null,
   "id": "50067758",
   "metadata": {},
   "outputs": [],
   "source": []
  },
  {
   "cell_type": "code",
   "execution_count": null,
   "id": "83246be5",
   "metadata": {},
   "outputs": [],
   "source": []
  },
  {
   "cell_type": "code",
   "execution_count": null,
   "id": "6eab2e22",
   "metadata": {},
   "outputs": [],
   "source": []
  },
  {
   "cell_type": "code",
   "execution_count": null,
   "id": "a1f6e932",
   "metadata": {},
   "outputs": [],
   "source": []
  },
  {
   "cell_type": "code",
   "execution_count": null,
   "id": "43d71afd",
   "metadata": {},
   "outputs": [],
   "source": []
  },
  {
   "cell_type": "code",
   "execution_count": null,
   "id": "9661f772",
   "metadata": {},
   "outputs": [],
   "source": []
  },
  {
   "cell_type": "code",
   "execution_count": null,
   "id": "5c691fec",
   "metadata": {},
   "outputs": [],
   "source": []
  },
  {
   "cell_type": "code",
   "execution_count": null,
   "id": "14a17f36",
   "metadata": {},
   "outputs": [],
   "source": []
  },
  {
   "cell_type": "markdown",
   "id": "f34a5a19",
   "metadata": {},
   "source": [
    "### Import DSPy, configure LLM"
   ]
  },
  {
   "cell_type": "code",
   "execution_count": 3,
   "id": "d98881d0",
   "metadata": {},
   "outputs": [
    {
     "data": {
      "application/vnd.jupyter.widget-view+json": {
       "model_id": "8b65740a2e91435a88f633f3ab427083",
       "version_major": 2,
       "version_minor": 0
      },
      "text/plain": [
       "Downloading readme:   0%|          | 0.00/7.94k [00:00<?, ?B/s]"
      ]
     },
     "metadata": {},
     "output_type": "display_data"
    },
    {
     "data": {
      "application/vnd.jupyter.widget-view+json": {
       "model_id": "d1b2be8085cf4c27baef5f3787ff08ee",
       "version_major": 2,
       "version_minor": 0
      },
      "text/plain": [
       "Downloading data files:   0%|          | 0/2 [00:00<?, ?it/s]"
      ]
     },
     "metadata": {},
     "output_type": "display_data"
    },
    {
     "data": {
      "application/vnd.jupyter.widget-view+json": {
       "model_id": "486c98185b004bbdbb14fd5096875dbf",
       "version_major": 2,
       "version_minor": 0
      },
      "text/plain": [
       "Downloading data:   0%|          | 0.00/2.31M [00:00<?, ?B/s]"
      ]
     },
     "metadata": {},
     "output_type": "display_data"
    },
    {
     "data": {
      "application/vnd.jupyter.widget-view+json": {
       "model_id": "5f4f08ffd5f84aa6a3a1deebb3513c69",
       "version_major": 2,
       "version_minor": 0
      },
      "text/plain": [
       "Downloading data:   0%|          | 0.00/419k [00:00<?, ?B/s]"
      ]
     },
     "metadata": {},
     "output_type": "display_data"
    },
    {
     "data": {
      "application/vnd.jupyter.widget-view+json": {
       "model_id": "8d2e4e554beb4593b60b1ec958ef1da4",
       "version_major": 2,
       "version_minor": 0
      },
      "text/plain": [
       "Extracting data files:   0%|          | 0/2 [00:00<?, ?it/s]"
      ]
     },
     "metadata": {},
     "output_type": "display_data"
    },
    {
     "data": {
      "application/vnd.jupyter.widget-view+json": {
       "model_id": "10ee5d0239df4bed8bcb894ad00b633e",
       "version_major": 2,
       "version_minor": 0
      },
      "text/plain": [
       "Generating train split:   0%|          | 0/7473 [00:00<?, ? examples/s]"
      ]
     },
     "metadata": {},
     "output_type": "display_data"
    },
    {
     "data": {
      "application/vnd.jupyter.widget-view+json": {
       "model_id": "9b0aa3e23b4a4ccb91f05eccdb98e02c",
       "version_major": 2,
       "version_minor": 0
      },
      "text/plain": [
       "Generating test split:   0%|          | 0/1319 [00:00<?, ? examples/s]"
      ]
     },
     "metadata": {},
     "output_type": "display_data"
    },
    {
     "name": "stderr",
     "output_type": "stream",
     "text": [
      "100%|███████████████████████████████████████████████████████████████████████████| 7473/7473 [00:00<00:00, 29926.93it/s]\n",
      "100%|███████████████████████████████████████████████████████████████████████████| 1319/1319 [00:00<00:00, 40104.44it/s]\n"
     ]
    }
   ],
   "source": [
    "import dspy\n",
    "from dspy.datasets.gsm8k import GSM8K, gsm8k_metric\n",
    "\n",
    "# Set up the LM\n",
    "turbo = dspy.OpenAI(model='gpt-3.5-turbo-instruct', max_tokens=250)\n",
    "dspy.settings.configure(lm=turbo)\n",
    "\n",
    "# Load math questions from the GSM8K dataset\n",
    "gsm8k = GSM8K()\n",
    "gsm8k_trainset, gsm8k_devset = gsm8k.train[:10], gsm8k.dev[:10]"
   ]
  },
  {
   "cell_type": "markdown",
   "id": "e81f3554",
   "metadata": {},
   "source": [
    "## 2) Define the Module"
   ]
  },
  {
   "cell_type": "code",
   "execution_count": null,
   "id": "3c0208f3",
   "metadata": {},
   "outputs": [],
   "source": [
    "class CoT(dspy.Module):\n",
    "    def __init__(self):\n",
    "        super().__init__()\n",
    "        self.prog = dspy.ChainOfThought(\"question -> answer\")\n",
    "    \n",
    "    def forward(self, question):\n",
    "        return self.prog(question=question)"
   ]
  }
 ],
 "metadata": {
  "kernelspec": {
   "display_name": "Python 3 (ipykernel)",
   "language": "python",
   "name": "python3"
  },
  "language_info": {
   "codemirror_mode": {
    "name": "ipython",
    "version": 3
   },
   "file_extension": ".py",
   "mimetype": "text/x-python",
   "name": "python",
   "nbconvert_exporter": "python",
   "pygments_lexer": "ipython3",
   "version": "3.11.5"
  }
 },
 "nbformat": 4,
 "nbformat_minor": 5
}
