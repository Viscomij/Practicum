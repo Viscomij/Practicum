{
 "cells": [
  {
   "cell_type": "markdown",
   "id": "0f14bf95",
   "metadata": {},
   "source": [
    "# DSPy X Progress Note Validation - Minimal Working Example"
   ]
  },
  {
   "cell_type": "markdown",
   "id": "2b09f333",
   "metadata": {},
   "source": [
    "## 1) Setup"
   ]
  },
  {
   "cell_type": "markdown",
   "id": "9f590d37",
   "metadata": {},
   "source": [
    "### 1.1 Import OpenAI library, read API key"
   ]
  },
  {
   "cell_type": "code",
   "execution_count": 3,
   "id": "397d7ed1",
   "metadata": {},
   "outputs": [],
   "source": [
    "#%pip install openai"
   ]
  },
  {
   "cell_type": "code",
   "execution_count": 2,
   "id": "445cb5ed",
   "metadata": {},
   "outputs": [],
   "source": [
    "import os\n",
    "os.chdir('C:/Users/jcviscom/OneDrive - Intermountain Healthcare/BMI Degree/Practicum/DSPy')"
   ]
  },
  {
   "cell_type": "code",
   "execution_count": 3,
   "id": "346e9ca3",
   "metadata": {},
   "outputs": [],
   "source": [
    "from openai import OpenAI\n",
    "\n",
    "# Function to read API key from a file\n",
    "def get_api_key(filepath):\n",
    "    with open(filepath, 'r') as file:\n",
    "        return file.read().strip()\n",
    "\n",
    "# Set the path to your API key file\n",
    "api_key_path = 'OpenAIKey.txt'\n",
    "\n",
    "\n",
    "client = OpenAI(api_key = get_api_key(api_key_path))"
   ]
  },
  {
   "cell_type": "markdown",
   "id": "e15afd6e",
   "metadata": {},
   "source": [
    "## 2) Load progress notes, structured billing information"
   ]
  },
  {
   "cell_type": "markdown",
   "id": "a366a9c8",
   "metadata": {},
   "source": [
    "### 2.1 Load Progress Note PDF"
   ]
  },
  {
   "cell_type": "code",
   "execution_count": 4,
   "id": "bd65c160",
   "metadata": {},
   "outputs": [],
   "source": [
    "import fitz  # PyMuPDF for PDF parsing\n",
    "import re\n",
    "import csv\n",
    "\n",
    "\n",
    "# Function to extract text from a PDF file\n",
    "def extract_text_from_pdf(pdf_file):\n",
    "    doc = fitz.open(pdf_file)\n",
    "    text = \"\"\n",
    "    for page_num in range(len(doc)):\n",
    "        page = doc.load_page(page_num)\n",
    "        text += page.get_text()\n",
    "    return text\n",
    "\n",
    "progress_notes_text = extract_text_from_pdf('MWE - Sepsis/Progress Notes/Progress Notes.pdf')"
   ]
  },
  {
   "cell_type": "code",
   "execution_count": 5,
   "id": "12d82d8f",
   "metadata": {},
   "outputs": [
    {
     "data": {
      "text/plain": [
       "\"Progress Notes \\nPatient Name: John Doe \\nMRN: 12345678 \\nDate of Admission: 2024-06-10 \\nDate of Note: 2024-06-13 \\nAttending Physician: Dr. Jane Smith \\nUnit: ICU \\n \\nSubjective: \\nPatient is a 65-year-old male with a history of hypertension and type 2 diabetes mellitus who was \\nadmitted three days ago with high fever, chills, and confusion. The patient's family reports that \\nhe has been feeling progressively worse over the past week and had a fever of 102°F at home. He \\nwas brought to the emergency department where he was found to be hypotensive and \\ntachycardic. \\nObjective: \\n• \\nVitals: \\no Temperature: 101.8°F \\no Heart Rate: 110 bpm \\no Blood Pressure: 85/55 mmHg \\no Respiratory Rate: 24 breaths/min \\no SpO2: 92% on room air \\n• \\nPhysical Exam: \\no General: Ill-appearing, diaphoretic \\no HEENT: No significant findings \\no Cardiovascular: Tachycardia, no murmurs \\no Respiratory: Tachypneic, coarse crackles at bases \\no Abdomen: Soft, non-tender \\no Extremities: No edema \\no Neurological: Alert, oriented to person only, follows simple commands \\n• \\nLabs/Imaging: \\no CBC: WBC 18,000/µL, Hgb 12.5 g/dL, Platelets 150,000/µL \\no BMP: Na 138 mmol/L, K 4.2 mmol/L, Cl 102 mmol/L, HCO3 20 mmol/L, BUN \\n28 mg/dL, Cr 1.8 mg/dL, Glucose 190 mg/dL \\no Lactic Acid: 4.5 mmol/L \\no Blood Cultures: Pending \\no Chest X-ray: Bilateral infiltrates \\nAssessment: \\n1. Sepsis secondary to presumed pneumonia: \\no The patient presents with fever, tachycardia, hypotension, and respiratory distress. \\nBlood cultures are pending. \\no Elevated WBC and lactic acid levels indicate significant infection and \\nhypoperfusion. \\n2. Hypertension: \\no History of hypertension, currently managed with home medications. \\n3. Type 2 Diabetes Mellitus: \\no Chronic condition, currently on metformin. \\nPlan: \\n1. Sepsis: \\no Continue IV fluids and broad-spectrum antibiotics (Vancomycin and Piperacillin-\\nTazobactam). \\no Monitor vitals closely. \\no Repeat lactate level in 6 hours. \\no Transfer to ICU for close monitoring and possible vasopressor support. \\n2. Hypertension: \\no Hold antihypertensive medications due to current hypotension. \\n3. Diabetes Management: \\no Monitor blood glucose levels every 4 hours. \\no Continue sliding scale insulin. \\n \\nFollow-Up Note (2024-06-14): \\nSubjective: \\nPatient shows slight improvement in mental status, now oriented to person and place. Fever \\npersists. The family reports that he had been in close contact with a relative who was recently \\ndiagnosed with influenza. \\nObjective: \\n• \\nVitals: \\no Temperature: 100.5°F \\no Heart Rate: 100 bpm \\no Blood Pressure: 90/60 mmHg \\no Respiratory Rate: 20 breaths/min \\no SpO2: 94% on room air \\n• \\nLabs/Imaging: \\no Repeat Lactic Acid: 3.0 mmol/L \\no Blood Cultures: Negative \\no Influenza PCR: Positive for Influenza A \\nAssessment: \\n1. Influenza with secondary bacterial infection: \\no Initial presentation suggested sepsis, but blood cultures are negative and influenza \\nPCR is positive. \\no Likely secondary bacterial pneumonia contributing to the sepsis-like picture. \\n2. Hypertension: \\no Continue to hold antihypertensive medications due to ongoing relative \\nhypotension. \\n3. Type 2 Diabetes Mellitus: \\no Continue monitoring and sliding scale insulin. \\nPlan: \\n1. Influenza: \\no Discontinue broad-spectrum antibiotics. \\no Start antiviral therapy (Oseltamivir). \\no Continue supportive care with fluids and antipyretics. \\no Monitor for any signs of secondary bacterial infection. \\n2. Hypertension: \\no Re-evaluate blood pressure management once the patient stabilizes. \\n3. Diabetes Management: \\no Continue monitoring and sliding scale insulin. \\no Adjust insulin doses as needed based on blood glucose readings. \\n \\nSigned: \\nDr. Jane Smith, MD \\nAttending Physician \\n4o \\n \\n\""
      ]
     },
     "execution_count": 5,
     "metadata": {},
     "output_type": "execute_result"
    }
   ],
   "source": [
    "progress_notes_text"
   ]
  },
  {
   "cell_type": "markdown",
   "id": "62a6c06e",
   "metadata": {},
   "source": [
    "### 2.2A Load HL7 Message, Extract Primary Diagnosis and DRG"
   ]
  },
  {
   "cell_type": "code",
   "execution_count": 12,
   "id": "a75f1200",
   "metadata": {},
   "outputs": [
    {
     "name": "stdout",
     "output_type": "stream",
     "text": [
      "HL7 Message:\n",
      "\n",
      "MSH|^~\\&|HIS|RIH|EKG|EKG|202406131030||ADT^A08|MSG00001|P|2.3\n",
      "EVN|A08|202406131030|||1234567\n",
      "PID|1||12345678^^^HIS^MR||DOE^JOHN^A||19580615|M|||123 MAIN ST^^HOMETOWN^CA^99999^USA||(555)555-5555|||M|S||123456789|987-65-4320\n",
      "PV1|1|I|ICU^101^1^RIH||||1234^Smith^Jane^A|||MED|||||12345678|A|||||||||||||||||||20240610\n",
      "DG1|1||A41.9^Sepsis, unspecified organism^I10|Sepsis|20240610|A\n",
      "DRG|871|0|20240613\n",
      "PR1|1|ICD10PCS|5A1D60Z^Respiratory Ventilation, Less than 24 Consecutive Hours^I10|20240611\n",
      "\n",
      "\n",
      "RegEx Extraction:\n",
      "\n",
      "Encounter ID: 202406131030\n",
      "DRG: 871\n",
      "Primary Diagnosis: A41.9\n"
     ]
    }
   ],
   "source": [
    "# Function to read HL7 message from a text file\n",
    "with open('MWE - Sepsis/HL7.txt', 'r') as file:\n",
    "    hl7_message = file.read()\n",
    "\n",
    "# Regular expressions to extract DRG and ICD codes\n",
    "drg_pattern_HL7 = r\"DRG\\|(\\d+)\\|\"  # Matches DRG|<code>|\n",
    "PD_pattern_HL7 = r\"DG1\\|1\\|\\|(.*?)\\|\"  # Matches DG1|1||<code>|\n",
    "encounter_id_pattern = r\"EVN\\|.*\\|([0-9]{12})\\|\"\n",
    "\n",
    "# Extract DRG code\n",
    "drg_match = re.search(drg_pattern_HL7, hl7_message)\n",
    "if drg_match:\n",
    "    drg_code = drg_match.group(1)\n",
    "else:\n",
    "    drg_code = \"Not found\"\n",
    "\n",
    "# Extract ICD code\n",
    "PD_match = re.search(PD_pattern_HL7, hl7_message)\n",
    "if PD_match:\n",
    "    PD_ICD = PD_match.group(1).split(\"^\")[0]  # Extract only the ICD code without additional details\n",
    "else:\n",
    "    PD_ICD = \"Not found\"\n",
    "    \n",
    "\n",
    "\n",
    "# Extract Encounter ID\n",
    "encounter_id_match = re.search(encounter_id_pattern, hl7_message)\n",
    "if encounter_id_match:\n",
    "    encounter_id = encounter_id_match.group(1)\n",
    "else:\n",
    "    encounter_id = \"Not found\"\n",
    "\n",
    "\n",
    "# Print the extracted codes\n",
    "print('HL7 Message:')\n",
    "print()\n",
    "print(hl7_message)\n",
    "print()\n",
    "print('RegEx Extraction:')\n",
    "print()\n",
    "print(f\"Encounter ID: {encounter_id}\")\n",
    "print(f\"DRG: {drg_code}\")\n",
    "print(f\"Primary Diagnosis: {PD_ICD}\")"
   ]
  },
  {
   "cell_type": "markdown",
   "id": "6680a81a",
   "metadata": {},
   "source": [
    "### 2.2B Load ASC EDI X12 837/835 Message, Extract Primary Diagnosis and DRG"
   ]
  },
  {
   "cell_type": "code",
   "execution_count": 18,
   "id": "149e6829",
   "metadata": {},
   "outputs": [
    {
     "name": "stdout",
     "output_type": "stream",
     "text": [
      "EDI X12 Message:\n",
      "\n",
      "ISA*00* \t*00* \n",
      "*ZZ*SENDER ID \n",
      "*ZZ*RECEIVER ID *20240613*1030*^*00501*000000001*0*T*:~ \n",
      "GS*HC*SENDER CODE*RECEIVER \n",
      "CODE*20240613*1030*1*X*005010X222A1~ \n",
      "ST*837*0001*005010X222A1~ \n",
      "BHT*0019*00*202406131030*20240613*1030*CH~ \n",
      "NM1*41*2*SENDER NAME*****46*123456789~ \n",
      "PER*IC*CONTACT NAME*TE*5555555555~ \n",
      "NM1*40*2*RECEIVER NAME*****46*987654321~ \n",
      "HL*1**20*1~ NM1*85*2*CUH*****XX*1234567893~ \n",
      "N3*123 MAIN ST~ \n",
      "N4*ATLANTA*GA*30303~ \n",
      "REF*EI*123456789~ \n",
      "HL*2*1*22*0~ \n",
      "SBR*P*18*MEDICARE*****MA~ \n",
      "NM1*IL*1*DOE*JOHN****MI*12345678~ \n",
      "N3*123 MAIN ST~ \n",
      "N4*ATLANTA*GA*30303~ \n",
      "DMG*D8*19500101*M~ \n",
      "NM1*PR*2*MEDICARE*****PI*MEDICARE~ \n",
      "HL*3*2*23*0~ PAT*19~ \n",
      "NM1*QC*1*DOE*JOHN~ \n",
      "N3*123 MAIN ST~ \n",
      "N4*ATLANTA*GA*30303~ \n",
      "CLM*12345678*1000***11::1*Y*A*Y*I~ \n",
      "HI*ABK:A41.9~ \n",
      "HI*ABF:871~ \n",
      "NM1*82*1*SMITH*JANE****XX*9876543210~ \n",
      "SBR*S*18****CI~ \n",
      "NM1*PR*2*CUH*****PI*123456~ \n",
      "SE*28*0001~ \n",
      "GE*1*1~ \n",
      "IEA*1*000000001~\n",
      "\n",
      "RegEx Extraction:\n",
      "\n",
      "Claim ID: 12345678\n",
      "DRG: 871\n",
      "Primary Diagnosis: A41.9\n"
     ]
    }
   ],
   "source": [
    "# Function to read HL7 message from a text file\n",
    "with open('MWE - Sepsis/ASC_EDI_X12.txt', 'r') as file:\n",
    "    EDI_message = file.read()\n",
    "\n",
    "# Regular expressions to extract DRG and ICD codes\n",
    "drg_pattern_EDI = r\"HI\\*ABF:([\\w\\d]+)~\"  # Matches DRG|<code>|\n",
    "PD_pattern_EDI = r\"HI\\*ABK:([A-Za-z0-9.]+)~\"  # Matches DG1|1||<code>|\n",
    "claim_id_pattern = r\"CLM\\*([\\w\\d]+)\\*\"\n",
    "\n",
    "# Extract DRG code\n",
    "drg_match = re.search(drg_pattern_EDI, EDI_message)\n",
    "if drg_match:\n",
    "    drg_code = drg_match.group(1)\n",
    "else:\n",
    "    drg_code = \"Not found\"\n",
    "\n",
    "# Extract ICD code\n",
    "PD_match = re.search(PD_pattern_EDI, EDI_message)\n",
    "if PD_match:\n",
    "    PD_ICD = PD_match.group(1) #.split(\"^\")[0]  # Extract only the ICD code without additional details\n",
    "else:\n",
    "    PD_ICD = \"Not found\"\n",
    "    \n",
    "\n",
    "\n",
    "# Extract Encounter ID\n",
    "claim_id_match = re.search(claim_id_pattern, EDI_message)\n",
    "if claim_id_match:\n",
    "    claim_id = claim_id_match.group(1)\n",
    "else:\n",
    "    claim_id = \"Not found\"\n",
    "\n",
    "\n",
    "# Print the extracted codes\n",
    "print('EDI X12 Message:')\n",
    "print()\n",
    "print(EDI_message)\n",
    "print()\n",
    "print('RegEx Extraction:')\n",
    "print()\n",
    "print(f\"Claim ID: {claim_id}\")\n",
    "print(f\"DRG: {drg_code}\")\n",
    "print(f\"Primary Diagnosis: {PD_ICD}\")"
   ]
  },
  {
   "cell_type": "markdown",
   "id": "f931d891",
   "metadata": {},
   "source": [
    "### 2.3 Manually seperate progress note into strucuted table"
   ]
  },
  {
   "cell_type": "code",
   "execution_count": 19,
   "id": "4165ca81",
   "metadata": {},
   "outputs": [],
   "source": [
    "#split progress notes, combine into array\n",
    "progress_note_1 = progress_notes_text[0:2198]\n",
    "progress_note_2 = progress_notes_text[2198:]\n",
    "\n",
    "progress_note_array = [progress_note_1,progress_note_2]"
   ]
  },
  {
   "cell_type": "code",
   "execution_count": 20,
   "id": "caaef318",
   "metadata": {},
   "outputs": [
    {
     "data": {
      "text/html": [
       "<div>\n",
       "<style scoped>\n",
       "    .dataframe tbody tr th:only-of-type {\n",
       "        vertical-align: middle;\n",
       "    }\n",
       "\n",
       "    .dataframe tbody tr th {\n",
       "        vertical-align: top;\n",
       "    }\n",
       "\n",
       "    .dataframe thead th {\n",
       "        text-align: right;\n",
       "    }\n",
       "</style>\n",
       "<table border=\"1\" class=\"dataframe\">\n",
       "  <thead>\n",
       "    <tr style=\"text-align: right;\">\n",
       "      <th></th>\n",
       "      <th>ProgessNote</th>\n",
       "      <th>PrimaryDiagnosis</th>\n",
       "      <th>MSDRG</th>\n",
       "    </tr>\n",
       "  </thead>\n",
       "  <tbody>\n",
       "    <tr>\n",
       "      <th>0</th>\n",
       "      <td>Progress Notes \\nPatient Name: John Doe \\nMRN:...</td>\n",
       "      <td>A41.9</td>\n",
       "      <td>871</td>\n",
       "    </tr>\n",
       "    <tr>\n",
       "      <th>1</th>\n",
       "      <td>Follow-Up Note (2024-06-14): \\nSubjective: \\nP...</td>\n",
       "      <td>A41.9</td>\n",
       "      <td>871</td>\n",
       "    </tr>\n",
       "  </tbody>\n",
       "</table>\n",
       "</div>"
      ],
      "text/plain": [
       "                                         ProgessNote PrimaryDiagnosis MSDRG\n",
       "0  Progress Notes \\nPatient Name: John Doe \\nMRN:...            A41.9   871\n",
       "1  Follow-Up Note (2024-06-14): \\nSubjective: \\nP...            A41.9   871"
      ]
     },
     "execution_count": 20,
     "metadata": {},
     "output_type": "execute_result"
    }
   ],
   "source": [
    "import pandas as pd\n",
    "\n",
    "data = []\n",
    "for i in range(len(progress_note_array)):\n",
    "    ProgessNote = f'{progress_note_array[i]}'\n",
    "    # Append a tuple (or list) of values to the data list\n",
    "    data.append((ProgessNote, PD_ICD, drg_code))\n",
    "\n",
    "# Convert the list of tuples to a DataFrame\n",
    "df = pd.DataFrame(data, columns=['ProgessNote', 'PrimaryDiagnosis', 'MSDRG'])\n",
    "\n",
    "# Display the DataFrame\n",
    "df"
   ]
  },
  {
   "cell_type": "code",
   "execution_count": 21,
   "id": "c6b2398a",
   "metadata": {},
   "outputs": [
    {
     "data": {
      "text/html": [
       "<div>\n",
       "<style scoped>\n",
       "    .dataframe tbody tr th:only-of-type {\n",
       "        vertical-align: middle;\n",
       "    }\n",
       "\n",
       "    .dataframe tbody tr th {\n",
       "        vertical-align: top;\n",
       "    }\n",
       "\n",
       "    .dataframe thead th {\n",
       "        text-align: right;\n",
       "    }\n",
       "</style>\n",
       "<table border=\"1\" class=\"dataframe\">\n",
       "  <thead>\n",
       "    <tr style=\"text-align: right;\">\n",
       "      <th></th>\n",
       "      <th>ProgessNote</th>\n",
       "      <th>PrimaryDiagnosis</th>\n",
       "      <th>MSDRG</th>\n",
       "      <th>ClinValidDRG_GS</th>\n",
       "    </tr>\n",
       "  </thead>\n",
       "  <tbody>\n",
       "    <tr>\n",
       "      <th>0</th>\n",
       "      <td>Progress Notes \\nPatient Name: John Doe \\nMRN:...</td>\n",
       "      <td>A41.9</td>\n",
       "      <td>871</td>\n",
       "      <td>Y</td>\n",
       "    </tr>\n",
       "    <tr>\n",
       "      <th>1</th>\n",
       "      <td>Follow-Up Note (2024-06-14): \\nSubjective: \\nP...</td>\n",
       "      <td>A41.9</td>\n",
       "      <td>871</td>\n",
       "      <td>N</td>\n",
       "    </tr>\n",
       "  </tbody>\n",
       "</table>\n",
       "</div>"
      ],
      "text/plain": [
       "                                         ProgessNote PrimaryDiagnosis MSDRG  \\\n",
       "0  Progress Notes \\nPatient Name: John Doe \\nMRN:...            A41.9   871   \n",
       "1  Follow-Up Note (2024-06-14): \\nSubjective: \\nP...            A41.9   871   \n",
       "\n",
       "  ClinValidDRG_GS  \n",
       "0               Y  \n",
       "1               N  "
      ]
     },
     "execution_count": 21,
     "metadata": {},
     "output_type": "execute_result"
    }
   ],
   "source": [
    "df_gs = df.assign(ClinValidDRG_GS = ['Y','N'])\n",
    "df_gs"
   ]
  },
  {
   "cell_type": "markdown",
   "id": "c772e79b",
   "metadata": {},
   "source": [
    "## 3) LM evaluation using DSPy"
   ]
  },
  {
   "cell_type": "markdown",
   "id": "88725008",
   "metadata": {},
   "source": [
    "### 3.0 Format table into trainset, devset"
   ]
  },
  {
   "cell_type": "code",
   "execution_count": 103,
   "id": "b7bbddd3",
   "metadata": {},
   "outputs": [
    {
     "name": "stderr",
     "output_type": "stream",
     "text": [
      "100%|███████████████████████████████████████████████████████████████████████████| 7473/7473 [00:00<00:00, 30310.83it/s]\n",
      "100%|███████████████████████████████████████████████████████████████████████████| 1319/1319 [00:00<00:00, 32974.64it/s]\n"
     ]
    }
   ],
   "source": [
    "from dspy.datasets.gsm8k import GSM8K, gsm8k_metric\n",
    "\n",
    "gsm8k = GSM8K()\n",
    "gsm8k_trainset, gsm8k_devset = gsm8k.train[:10], gsm8k.dev[:10]"
   ]
  },
  {
   "cell_type": "code",
   "execution_count": 106,
   "id": "c46311ed",
   "metadata": {},
   "outputs": [],
   "source": [
    "pn_trainset = gsm8k_trainset[0:2]\n",
    "\n",
    "pn_trainset[0]['question'] = f\"is {df_gs['PrimaryDiagnosis'][0]} the correct diagnosis for this progress note: {df_gs['ProgessNote'][0]}\" \n",
    "pn_trainset[0]['gold_reasoning'] = \"Yes, A41.9, which corresponds to 'Sepsis, unspecified organism,' is a clinically valid diagnosis for this progress note. The patient presents with fever, hypotension, tachycardia, elevated WBC count, and high lactic acid levels, all of which are indicative of sepsis. The presence of bilateral infiltrates on the chest X-ray and the clinical context suggest a presumed pneumonia as the source of infection, consistent with a diagnosis of sepsis.\"\n",
    "pn_trainset[0]['answer'] = \"Y\"\n",
    "\n",
    "pn_trainset[1]['question'] = f\"is {df_gs['PrimaryDiagnosis'][1]} the correct diagnosis for this progress note: {df_gs['ProgessNote'][1]}\" \n",
    "pn_trainset[1]['gold_reasoning'] = \"The correct diagnosis for this progress note is not A41.9, which represents 'Sepsis, unspecified organism.' The note indicates that the initial presentation suggested sepsis, but blood cultures are negative, and the Influenza PCR is positive for Influenza A. The patient's clinical picture is more consistent with influenza with a possible secondary bacterial pneumonia, as indicated by the positive Influenza PCR and clinical findings\"\n",
    "pn_trainset[1]['answer'] = \"N\""
   ]
  },
  {
   "cell_type": "markdown",
   "id": "f34a5a19",
   "metadata": {},
   "source": [
    "### 3.1 Import DSPy, configure LLM"
   ]
  },
  {
   "cell_type": "code",
   "execution_count": 22,
   "id": "d98881d0",
   "metadata": {},
   "outputs": [],
   "source": [
    "import dspy\n",
    "# Set up the LM\n",
    "turbo = dspy.OpenAI(model='gpt-3.5-turbo-instruct', max_tokens=250)\n",
    "dspy.settings.configure(lm=turbo)"
   ]
  },
  {
   "cell_type": "markdown",
   "id": "48c09959",
   "metadata": {},
   "source": [
    "### 3.2 Compile and Evaluate the Model"
   ]
  },
  {
   "cell_type": "code",
   "execution_count": 107,
   "id": "1d45e1f9",
   "metadata": {},
   "outputs": [
    {
     "name": "stderr",
     "output_type": "stream",
     "text": [
      " 50%|██████████████████████████████████████████                                          | 1/2 [00:02<00:02,  2.37s/it]\n"
     ]
    }
   ],
   "source": [
    "from dspy.teleprompt import BootstrapFewShot\n",
    "\n",
    "# Set up the optimizer: we want to \"bootstrap\" (i.e., self-generate) 4-shot examples of our CoT program.\n",
    "config = dict(max_bootstrapped_demos=1, max_labeled_demos=1)\n",
    "\n",
    "# Optimize! Use the `gsm8k_metric` here. In general, the metric is going to tell the optimizer how well it's doing.\n",
    "teleprompter = BootstrapFewShot(metric=gsm8k_metric, **config)\n",
    "optimized_cot = teleprompter.compile(CoT(), trainset=pn_trainset)"
   ]
  },
  {
   "cell_type": "code",
   "execution_count": 113,
   "id": "831e01f8",
   "metadata": {},
   "outputs": [
    {
     "name": "stdout",
     "output_type": "stream",
     "text": [
      "Average Metric: 1 / 2  (50.0): 100%|████████████████████████████████████████████████████| 2/2 [00:00<00:00, 500.07it/s]\n"
     ]
    },
    {
     "data": {
      "text/html": [
       "<style type=\"text/css\">\n",
       "#T_8a5be th {\n",
       "  text-align: left;\n",
       "}\n",
       "#T_8a5be td {\n",
       "  text-align: left;\n",
       "}\n",
       "#T_8a5be_row0_col0, #T_8a5be_row0_col1, #T_8a5be_row0_col2, #T_8a5be_row0_col3, #T_8a5be_row0_col4, #T_8a5be_row0_col5 {\n",
       "  text-align: left;\n",
       "  white-space: pre-wrap;\n",
       "  word-wrap: break-word;\n",
       "  max-width: 400px;\n",
       "}\n",
       "</style>\n",
       "<table id=\"T_8a5be\">\n",
       "  <thead>\n",
       "    <tr>\n",
       "      <th class=\"blank level0\" >&nbsp;</th>\n",
       "      <th id=\"T_8a5be_level0_col0\" class=\"col_heading level0 col0\" >question</th>\n",
       "      <th id=\"T_8a5be_level0_col1\" class=\"col_heading level0 col1\" >gold_reasoning</th>\n",
       "      <th id=\"T_8a5be_level0_col2\" class=\"col_heading level0 col2\" >example_answer</th>\n",
       "      <th id=\"T_8a5be_level0_col3\" class=\"col_heading level0 col3\" >rationale</th>\n",
       "      <th id=\"T_8a5be_level0_col4\" class=\"col_heading level0 col4\" >pred_answer</th>\n",
       "      <th id=\"T_8a5be_level0_col5\" class=\"col_heading level0 col5\" >gsm8k_metric</th>\n",
       "    </tr>\n",
       "  </thead>\n",
       "  <tbody>\n",
       "    <tr>\n",
       "      <th id=\"T_8a5be_level0_row0\" class=\"row_heading level0 row0\" >0</th>\n",
       "      <td id=\"T_8a5be_row0_col0\" class=\"data row0 col0\" >is A41.9 the correct diagnosis for this progress note: Progress Notes Patient Name: John Doe MRN: 12345678 Date of Admission: 2024-06-10 Date of Note: 2024-06-13...</td>\n",
       "      <td id=\"T_8a5be_row0_col1\" class=\"data row0 col1\" >Yes, A41.9, which corresponds to 'Sepsis, unspecified organism,' is a clinically valid diagnosis for this progress note. The patient presents with fever, hypotension, tachycardia, elevated...</td>\n",
       "      <td id=\"T_8a5be_row0_col2\" class=\"data row0 col2\" >Y</td>\n",
       "      <td id=\"T_8a5be_row0_col3\" class=\"data row0 col3\" >determine the correct diagnosis. We first need to review the patient's history and current symptoms. Then, we need to look at the objective data, such...</td>\n",
       "      <td id=\"T_8a5be_row0_col4\" class=\"data row0 col4\" >No, A41.9 is not the correct diagnosis for this progress note.</td>\n",
       "      <td id=\"T_8a5be_row0_col5\" class=\"data row0 col5\" >False</td>\n",
       "    </tr>\n",
       "  </tbody>\n",
       "</table>\n"
      ],
      "text/plain": [
       "<pandas.io.formats.style.Styler at 0x23107ff4d10>"
      ]
     },
     "metadata": {},
     "output_type": "display_data"
    },
    {
     "data": {
      "text/html": [
       "\n",
       "                <div style='\n",
       "                    text-align: center;\n",
       "                    font-size: 16px;\n",
       "                    font-weight: bold;\n",
       "                    color: #555;\n",
       "                    margin: 10px 0;'>\n",
       "                    ... 1 more rows not displayed ...\n",
       "                </div>\n",
       "                "
      ],
      "text/plain": [
       "<IPython.core.display.HTML object>"
      ]
     },
     "metadata": {},
     "output_type": "display_data"
    }
   ],
   "source": [
    "from dspy.evaluate import Evaluate\n",
    "\n",
    "# Set up the evaluator, which can be used multiple times.\n",
    "evaluate = Evaluate(devset=pn_trainset, metric=gsm8k_metric, num_threads=1, display_progress=True, display_table=1)\n",
    "\n",
    "# Evaluate our `optimized_cot` program.\n",
    "evaluate(optimized_cot)"
   ]
  },
  {
   "cell_type": "code",
   "execution_count": 115,
   "id": "55ade91c",
   "metadata": {},
   "outputs": [
    {
     "name": "stdout",
     "output_type": "stream",
     "text": [
      "\n",
      "\n",
      "\n",
      "Given the fields `question`, produce the fields `answer`.\n",
      "\n",
      "---\n",
      "\n",
      "Follow the following format.\n",
      "\n",
      "Question: ${question}\n",
      "Reasoning: Let's think step by step in order to ${produce the answer}. We ...\n",
      "Answer: ${answer}\n",
      "\n",
      "---\n",
      "\n",
      "Question: is A41.9 the correct diagnosis for this progress note: Progress Notes Patient Name: John Doe MRN: 12345678 Date of Admission: 2024-06-10 Date of Note: 2024-06-13 Attending Physician: Dr. Jane Smith Unit: ICU Subjective: Patient is a 65-year-old male with a history of hypertension and type 2 diabetes mellitus who was admitted three days ago with high fever, chills, and confusion. The patient's family reports that he has been feeling progressively worse over the past week and had a fever of 102°F at home. He was brought to the emergency department where he was found to be hypotensive and tachycardic. Objective: • Vitals: o Temperature: 101.8°F o Heart Rate: 110 bpm o Blood Pressure: 85/55 mmHg o Respiratory Rate: 24 breaths/min o SpO2: 92% on room air • Physical Exam: o General: Ill-appearing, diaphoretic o HEENT: No significant findings o Cardiovascular: Tachycardia, no murmurs o Respiratory: Tachypneic, coarse crackles at bases o Abdomen: Soft, non-tender o Extremities: No edema o Neurological: Alert, oriented to person only, follows simple commands • Labs/Imaging: o CBC: WBC 18,000/µL, Hgb 12.5 g/dL, Platelets 150,000/µL o BMP: Na 138 mmol/L, K 4.2 mmol/L, Cl 102 mmol/L, HCO3 20 mmol/L, BUN 28 mg/dL, Cr 1.8 mg/dL, Glucose 190 mg/dL o Lactic Acid: 4.5 mmol/L o Blood Cultures: Pending o Chest X-ray: Bilateral infiltrates Assessment: 1. Sepsis secondary to presumed pneumonia: o The patient presents with fever, tachycardia, hypotension, and respiratory distress. Blood cultures are pending. o Elevated WBC and lactic acid levels indicate significant infection and hypoperfusion. 2. Hypertension: o History of hypertension, currently managed with home medications. 3. Type 2 Diabetes Mellitus: o Chronic condition, currently on metformin. Plan: 1. Sepsis: o Continue IV fluids and broad-spectrum antibiotics (Vancomycin and Piperacillin- Tazobactam). o Monitor vitals closely. o Repeat lactate level in 6 hours. o Transfer to ICU for close monitoring and possible vasopressor support. 2. Hypertension: o Hold antihypertensive medications due to current hypotension. 3. Diabetes Management: o Monitor blood glucose levels every 4 hours. o Continue sliding scale insulin.\n",
      "Reasoning: Let's think step by step in order to determine the correct diagnosis. We first need to review the patient's history and current symptoms. Then, we need to look at the objective data, such as vital signs, physical exam findings, and lab results. Based on this information, we can make an assessment and develop a plan for treatment. In this case, the patient's symptoms and lab results suggest a diagnosis of sepsis secondary to pneumonia, as well as hypertension and type 2 diabetes mellitus. Therefore, A41.9 is not the correct diagnosis for this progress note.\n",
      "Answer: N\n",
      "\n",
      "---\n",
      "\n",
      "Question: is A41.9 the correct diagnosis for this progress note: Follow-Up Note (2024-06-14): Subjective: Patient shows slight improvement in mental status, now oriented to person and place. Fever persists. The family reports that he had been in close contact with a relative who was recently diagnosed with influenza. Objective: • Vitals: o Temperature: 100.5°F o Heart Rate: 100 bpm o Blood Pressure: 90/60 mmHg o Respiratory Rate: 20 breaths/min o SpO2: 94% on room air • Labs/Imaging: o Repeat Lactic Acid: 3.0 mmol/L o Blood Cultures: Negative o Influenza PCR: Positive for Influenza A Assessment: 1. Influenza with secondary bacterial infection: o Initial presentation suggested sepsis, but blood cultures are negative and influenza PCR is positive. o Likely secondary bacterial pneumonia contributing to the sepsis-like picture. 2. Hypertension: o Continue to hold antihypertensive medications due to ongoing relative hypotension. 3. Type 2 Diabetes Mellitus: o Continue monitoring and sliding scale insulin. Plan: 1. Influenza: o Discontinue broad-spectrum antibiotics. o Start antiviral therapy (Oseltamivir). o Continue supportive care with fluids and antipyretics. o Monitor for any signs of secondary bacterial infection. 2. Hypertension: o Re-evaluate blood pressure management once the patient stabilizes. 3. Diabetes Management: o Continue monitoring and sliding scale insulin. o Adjust insulin doses as needed based on blood glucose readings. Signed: Dr. Jane Smith, MD Attending Physician 4o\n",
      "Reasoning: Let's think step by step in order to determine the correct diagnosis. We first need to review the patient's history and current symptoms. Then, we need to look at the objective data, such as vital signs, physical exam findings, and lab results. Based on this information, we can make an assessment and develop a plan for treatment. In this case, the patient's symptoms and lab results suggest a diagnosis of influenza with a secondary bacterial infection, as well as hypertension and type 2 diabetes mellitus. Therefore, A41.9 is not the correct diagnosis for this progress note.\n",
      "Answer: N\n",
      "\n",
      "\n",
      "\n"
     ]
    },
    {
     "data": {
      "text/plain": [
       "\"\\n\\n\\nGiven the fields `question`, produce the fields `answer`.\\n\\n---\\n\\nFollow the following format.\\n\\nQuestion: ${question}\\nReasoning: Let's think step by step in order to ${produce the answer}. We ...\\nAnswer: ${answer}\\n\\n---\\n\\nQuestion: is A41.9 the correct diagnosis for this progress note: Progress Notes Patient Name: John Doe MRN: 12345678 Date of Admission: 2024-06-10 Date of Note: 2024-06-13 Attending Physician: Dr. Jane Smith Unit: ICU Subjective: Patient is a 65-year-old male with a history of hypertension and type 2 diabetes mellitus who was admitted three days ago with high fever, chills, and confusion. The patient's family reports that he has been feeling progressively worse over the past week and had a fever of 102°F at home. He was brought to the emergency department where he was found to be hypotensive and tachycardic. Objective: • Vitals: o Temperature: 101.8°F o Heart Rate: 110 bpm o Blood Pressure: 85/55 mmHg o Respiratory Rate: 24 breaths/min o SpO2: 92% on room air • Physical Exam: o General: Ill-appearing, diaphoretic o HEENT: No significant findings o Cardiovascular: Tachycardia, no murmurs o Respiratory: Tachypneic, coarse crackles at bases o Abdomen: Soft, non-tender o Extremities: No edema o Neurological: Alert, oriented to person only, follows simple commands • Labs/Imaging: o CBC: WBC 18,000/µL, Hgb 12.5 g/dL, Platelets 150,000/µL o BMP: Na 138 mmol/L, K 4.2 mmol/L, Cl 102 mmol/L, HCO3 20 mmol/L, BUN 28 mg/dL, Cr 1.8 mg/dL, Glucose 190 mg/dL o Lactic Acid: 4.5 mmol/L o Blood Cultures: Pending o Chest X-ray: Bilateral infiltrates Assessment: 1. Sepsis secondary to presumed pneumonia: o The patient presents with fever, tachycardia, hypotension, and respiratory distress. Blood cultures are pending. o Elevated WBC and lactic acid levels indicate significant infection and hypoperfusion. 2. Hypertension: o History of hypertension, currently managed with home medications. 3. Type 2 Diabetes Mellitus: o Chronic condition, currently on metformin. Plan: 1. Sepsis: o Continue IV fluids and broad-spectrum antibiotics (Vancomycin and Piperacillin- Tazobactam). o Monitor vitals closely. o Repeat lactate level in 6 hours. o Transfer to ICU for close monitoring and possible vasopressor support. 2. Hypertension: o Hold antihypertensive medications due to current hypotension. 3. Diabetes Management: o Monitor blood glucose levels every 4 hours. o Continue sliding scale insulin.\\nReasoning: Let's think step by step in order to determine the correct diagnosis. We first need to review the patient's history and current symptoms. Then, we need to look at the objective data, such as vital signs, physical exam findings, and lab results. Based on this information, we can make an assessment and develop a plan for treatment. In this case, the patient's symptoms and lab results suggest a diagnosis of sepsis secondary to pneumonia, as well as hypertension and type 2 diabetes mellitus. Therefore, A41.9 is not the correct diagnosis for this progress note.\\nAnswer: N\\n\\n---\\n\\nQuestion: is A41.9 the correct diagnosis for this progress note: Follow-Up Note (2024-06-14): Subjective: Patient shows slight improvement in mental status, now oriented to person and place. Fever persists. The family reports that he had been in close contact with a relative who was recently diagnosed with influenza. Objective: • Vitals: o Temperature: 100.5°F o Heart Rate: 100 bpm o Blood Pressure: 90/60 mmHg o Respiratory Rate: 20 breaths/min o SpO2: 94% on room air • Labs/Imaging: o Repeat Lactic Acid: 3.0 mmol/L o Blood Cultures: Negative o Influenza PCR: Positive for Influenza A Assessment: 1. Influenza with secondary bacterial infection: o Initial presentation suggested sepsis, but blood cultures are negative and influenza PCR is positive. o Likely secondary bacterial pneumonia contributing to the sepsis-like picture. 2. Hypertension: o Continue to hold antihypertensive medications due to ongoing relative hypotension. 3. Type 2 Diabetes Mellitus: o Continue monitoring and sliding scale insulin. Plan: 1. Influenza: o Discontinue broad-spectrum antibiotics. o Start antiviral therapy (Oseltamivir). o Continue supportive care with fluids and antipyretics. o Monitor for any signs of secondary bacterial infection. 2. Hypertension: o Re-evaluate blood pressure management once the patient stabilizes. 3. Diabetes Management: o Continue monitoring and sliding scale insulin. o Adjust insulin doses as needed based on blood glucose readings. Signed: Dr. Jane Smith, MD Attending Physician 4o\\nReasoning: Let's think step by step in order to\\x1b[32m determine the correct diagnosis. We first need to review the patient's history and current symptoms. Then, we need to look at the objective data, such as vital signs, physical exam findings, and lab results. Based on this information, we can make an assessment and develop a plan for treatment. In this case, the patient's symptoms and lab results suggest a diagnosis of influenza with a secondary bacterial infection, as well as hypertension and type 2 diabetes mellitus. Therefore, A41.9 is not the correct diagnosis for this progress note.\\nAnswer: N\\x1b[0m\\n\\n\\n\""
      ]
     },
     "execution_count": 115,
     "metadata": {},
     "output_type": "execute_result"
    }
   ],
   "source": [
    "turbo.inspect_history(n=1)"
   ]
  },
  {
   "cell_type": "code",
   "execution_count": null,
   "id": "dbef35a5",
   "metadata": {},
   "outputs": [],
   "source": []
  },
  {
   "cell_type": "code",
   "execution_count": null,
   "id": "46c9756d",
   "metadata": {},
   "outputs": [],
   "source": []
  },
  {
   "cell_type": "code",
   "execution_count": null,
   "id": "46371efe",
   "metadata": {},
   "outputs": [],
   "source": []
  },
  {
   "cell_type": "code",
   "execution_count": null,
   "id": "5b6515f6",
   "metadata": {},
   "outputs": [],
   "source": []
  },
  {
   "cell_type": "code",
   "execution_count": null,
   "id": "5f7bcf6b",
   "metadata": {},
   "outputs": [],
   "source": []
  },
  {
   "cell_type": "code",
   "execution_count": null,
   "id": "db085ee3",
   "metadata": {},
   "outputs": [],
   "source": []
  },
  {
   "cell_type": "code",
   "execution_count": null,
   "id": "eeb3b314",
   "metadata": {},
   "outputs": [],
   "source": []
  },
  {
   "cell_type": "code",
   "execution_count": null,
   "id": "5a5357ae",
   "metadata": {},
   "outputs": [],
   "source": []
  },
  {
   "cell_type": "code",
   "execution_count": null,
   "id": "7e5b02b1",
   "metadata": {},
   "outputs": [],
   "source": []
  },
  {
   "cell_type": "code",
   "execution_count": null,
   "id": "b68bad26",
   "metadata": {},
   "outputs": [],
   "source": []
  },
  {
   "cell_type": "code",
   "execution_count": null,
   "id": "3ba9266e",
   "metadata": {},
   "outputs": [],
   "source": []
  },
  {
   "cell_type": "code",
   "execution_count": null,
   "id": "2bf181eb",
   "metadata": {},
   "outputs": [],
   "source": []
  },
  {
   "cell_type": "code",
   "execution_count": null,
   "id": "91b5bd77",
   "metadata": {},
   "outputs": [],
   "source": []
  },
  {
   "cell_type": "code",
   "execution_count": null,
   "id": "85deb3e7",
   "metadata": {},
   "outputs": [],
   "source": []
  },
  {
   "cell_type": "code",
   "execution_count": null,
   "id": "da6feff3",
   "metadata": {},
   "outputs": [],
   "source": []
  },
  {
   "cell_type": "code",
   "execution_count": null,
   "id": "78211ab3",
   "metadata": {},
   "outputs": [],
   "source": []
  },
  {
   "cell_type": "code",
   "execution_count": null,
   "id": "61ec24f9",
   "metadata": {},
   "outputs": [],
   "source": []
  },
  {
   "cell_type": "code",
   "execution_count": null,
   "id": "2fb8ee70",
   "metadata": {},
   "outputs": [],
   "source": []
  },
  {
   "cell_type": "code",
   "execution_count": null,
   "id": "ed499db6",
   "metadata": {},
   "outputs": [],
   "source": []
  },
  {
   "cell_type": "markdown",
   "id": "159fddd3",
   "metadata": {},
   "source": [
    "# Unfinished Work"
   ]
  },
  {
   "cell_type": "markdown",
   "id": "e27aac68",
   "metadata": {},
   "source": [
    "### 3.3 Compile and Evaluate the Model"
   ]
  },
  {
   "cell_type": "code",
   "execution_count": null,
   "id": "677806d0",
   "metadata": {},
   "outputs": [],
   "source": [
    "\n",
    "class RAG(dspy.Module):\n",
    "    def __init__(self, num_passages=1):\n",
    "        super().__init__()\n",
    "\n",
    "        self.retrieve = dspy.Retrieve(k=num_passages)\n",
    "        self.generate_answer = dspy.ChainOfThought(GenerateAnswer)\n",
    "    \n",
    "    def forward(self, question):\n",
    "        context = self.retrieve(question).passages\n",
    "        prediction = self.generate_answer(context=context, question=question)\n",
    "        return dspy.Prediction(context=context, answer=prediction.answer)"
   ]
  },
  {
   "cell_type": "code",
   "execution_count": null,
   "id": "90ebadbc",
   "metadata": {},
   "outputs": [],
   "source": [
    "from dspy.teleprompt import BootstrapFewShot\n",
    "\n",
    "# Validation logic: check that the predicted answer is correct.\n",
    "# Also check that the retrieved context does actually contain that answer.\n",
    "def validate_context_and_answer(example, pred, trace=None):\n",
    "    answer_EM = dspy.evaluate.answer_exact_match(example, pred)\n",
    "    return answer_EM\n",
    "\n",
    "# Set up a basic teleprompter, which will compile our RAG program.\n",
    "teleprompter = BootstrapFewShot(metric=validate_context_and_answer)\n",
    "\n",
    "# Compile!\n",
    "compiled_rag = teleprompter.compile(RAG(), trainset=trainset)"
   ]
  },
  {
   "cell_type": "markdown",
   "id": "ade92ed8",
   "metadata": {},
   "source": [
    "### 3.3 Set up DSPy Predictor"
   ]
  },
  {
   "cell_type": "code",
   "execution_count": null,
   "id": "fb834c9b",
   "metadata": {},
   "outputs": [],
   "source": [
    "# Define the predictor.\n",
    "generate_answer = dspy.Predict(BasicQA)\n",
    "\n",
    "# Call the predictor on a particular input.\n",
    "pred = generate_answer(question=dev_example.question)\n",
    "\n",
    "# Print the input and the prediction.\n",
    "print(f\"Question: {dev_example.question}\")\n",
    "print(f\"Predicted Answer: {pred.answer}\")"
   ]
  },
  {
   "cell_type": "markdown",
   "id": "e81f3554",
   "metadata": {},
   "source": [
    "## 2) Define the Module"
   ]
  },
  {
   "cell_type": "code",
   "execution_count": null,
   "id": "3c0208f3",
   "metadata": {},
   "outputs": [],
   "source": [
    "class CoT(dspy.Module):\n",
    "    def __init__(self):\n",
    "        super().__init__()\n",
    "        self.prog = dspy.ChainOfThought(\"question -> answer\")\n",
    "    \n",
    "    def forward(self, question):\n",
    "        return self.prog(question=question)"
   ]
  }
 ],
 "metadata": {
  "kernelspec": {
   "display_name": "Python 3 (ipykernel)",
   "language": "python",
   "name": "python3"
  },
  "language_info": {
   "codemirror_mode": {
    "name": "ipython",
    "version": 3
   },
   "file_extension": ".py",
   "mimetype": "text/x-python",
   "name": "python",
   "nbconvert_exporter": "python",
   "pygments_lexer": "ipython3",
   "version": "3.11.5"
  }
 },
 "nbformat": 4,
 "nbformat_minor": 5
}
